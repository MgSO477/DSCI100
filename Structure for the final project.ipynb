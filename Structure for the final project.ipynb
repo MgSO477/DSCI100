{
 "cells": [
  {
   "cell_type": "code",
   "execution_count": null,
   "id": "13f8eb4f-b38b-48a3-a3f1-d6fc760ca114",
   "metadata": {},
   "outputs": [],
   "source": [
    "Title:\n",
    "Instruction:\n",
    "    background information:\n",
    "    provide a predictive question: \n",
    "    describe the dataset:"
   ]
  },
  {
   "cell_type": "code",
   "execution_count": null,
   "id": "052163b2-4de5-4472-be9e-582988c3e337",
   "metadata": {},
   "outputs": [],
   "source": [
    "Method and result: \n",
    "    describe the overall steps for the code, from the begining to the end"
   ]
  },
  {
   "cell_type": "code",
   "execution_count": null,
   "id": "f00a7619-bbd6-4b9a-b71f-36a3e972ae16",
   "metadata": {},
   "outputs": [],
   "source": [
    "Code: \n",
    "# base on proposal\n",
    "    load\n",
    "    wrangle and clean\n",
    "    summary of dataset (relevant for exploratory data analysis )\n",
    "    visualization for the exploratory data\n",
    "\n",
    "#? different with summary exploratory data analysis\n",
    "# perform a classification prediction? \n",
    "                        \n",
    "    perform data analysis? \n",
    "    create the visualization for the analysis\n",
    "\n",
    "# all tables and figure should have a figure/table number and a legend"
   ]
  },
  {
   "cell_type": "code",
   "execution_count": null,
   "id": "701c3cc4-8c65-4dc7-b711-ff85a20cac7e",
   "metadata": {},
   "outputs": [],
   "source": [
    "Discussion: \n",
    "    what you find?\n",
    "    different with expectation?\n",
    "    impact of this finding?\n",
    "    lead what further questions?"
   ]
  },
  {
   "cell_type": "code",
   "execution_count": null,
   "id": "246ac0b5-bc61-4861-85ef-457b281fd571",
   "metadata": {},
   "outputs": [],
   "source": [
    "citation:\n",
    "    at least 2 literature citations\n",
    "    cite the source of the data set "
   ]
  }
 ],
 "metadata": {
  "kernelspec": {
   "display_name": "R",
   "language": "R",
   "name": "ir"
  },
  "language_info": {
   "codemirror_mode": "r",
   "file_extension": ".r",
   "mimetype": "text/x-r-source",
   "name": "R",
   "pygments_lexer": "r",
   "version": "4.1.3"
  }
 },
 "nbformat": 4,
 "nbformat_minor": 5
}
