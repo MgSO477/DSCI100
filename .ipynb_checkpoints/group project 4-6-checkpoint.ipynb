{
 "cells": [
  {
   "cell_type": "code",
   "execution_count": 23,
   "id": "844365ca-cc15-42e7-b01d-00f274a1fcde",
   "metadata": {},
   "outputs": [
    {
     "ename": "SyntaxError",
     "evalue": "invalid syntax (928796294.py, line 12)",
     "output_type": "error",
     "traceback": [
      "\u001b[0;36m  Input \u001b[0;32mIn [23]\u001b[0;36m\u001b[0m\n\u001b[0;31m    diabetes_data <- diabetes_data |>\u001b[0m\n\u001b[0m                                    ^\u001b[0m\n\u001b[0;31mSyntaxError\u001b[0m\u001b[0;31m:\u001b[0m invalid syntax\n"
     ]
    }
   ],
   "source": [
    "library(tidyverse)\n",
    "library(repr)\n",
    "library(tidymodels)\n",
    "#options(repr.matrix.max.rows = 6)\n",
    "#source('tests.R')\n",
    "#source('cleanup.R')\n",
    "\n",
    "url <- \"https://drive.google.com/u/0/uc?id=1OAZCpZGdFPy70ll_Fo2ow5dpaM1sG_47&amp;export=download\"\n",
    "diabetes_data <- read_csv(url)\n",
    "diabetes_data\n",
    "\n",
    "diabetes_data <- diabetes_data |>\n",
    "    mutate(Smoker = as.logical(Smoker)) |>\n",
    "    mutate(Diabetes_binary = as.logical(Diabetes_binary)) |>\n",
    "    mutate(Age = Age * (100/14)) |>\n",
    "    mutate(Income = Income * (10/8)) |>\n",
    "    select(BMI,Age,Income,Smoker,Diabetes_binary)\n",
    "diabetes_data\n",
    "\n"
   ]
  },
  {
   "cell_type": "code",
   "execution_count": 18,
   "id": "ad394b91-c925-47c2-a7c0-6caa8486c24d",
   "metadata": {},
   "outputs": [
    {
     "ename": "AttributeError",
     "evalue": "type object 'set' has no attribute 'seed'",
     "output_type": "error",
     "traceback": [
      "\u001b[0;31m---------------------------------------------------------------------------\u001b[0m",
      "\u001b[0;31mAttributeError\u001b[0m                            Traceback (most recent call last)",
      "Input \u001b[0;32mIn [18]\u001b[0m, in \u001b[0;36m<cell line: 2>\u001b[0;34m()\u001b[0m\n\u001b[1;32m      1\u001b[0m \u001b[38;5;66;03m#split into testing and training dataset\u001b[39;00m\n\u001b[0;32m----> 2\u001b[0m \u001b[38;5;28;43mset\u001b[39;49m\u001b[38;5;241;43m.\u001b[39;49m\u001b[43mseed\u001b[49m(\u001b[38;5;241m1\u001b[39m)\n\u001b[1;32m      3\u001b[0m diabetes_split \u001b[38;5;241m<\u001b[39m\u001b[38;5;241m-\u001b[39m initial_split(Diabetes_data, prop \u001b[38;5;241m=\u001b[39m\u001b[38;5;241m0.75\u001b[39m, strata \u001b[38;5;241m=\u001b[39m Diabetes) \n\u001b[1;32m      4\u001b[0m \u001b[38;5;66;03m#please note the col name \"Diabetes\" since in the original dataset the col name is \"Diabetes_012\"\u001b[39;00m\n",
      "\u001b[0;31mAttributeError\u001b[0m: type object 'set' has no attribute 'seed'"
     ]
    }
   ],
   "source": [
    "\n",
    "#split into testing and training dataset\n",
    "set.seed(1)\n",
    "diabetes_split <- initial_split(Diabetes_data, prop =0.75, strata = Diabetes_binary) \n",
    "\n",
    "diabetes_train <-training(diabetes_split)\n",
    "diabetes_test <-testing(diabetes_split)\n",
    "\n"
   ]
  },
  {
   "cell_type": "code",
   "execution_count": 25,
   "id": "c6792fbb-13e6-47a1-b7de-caf405777c3d",
   "metadata": {},
   "outputs": [
    {
     "ename": "SyntaxError",
     "evalue": "invalid syntax (3225001225.py, line 2)",
     "output_type": "error",
     "traceback": [
      "\u001b[0;36m  Input \u001b[0;32mIn [25]\u001b[0;36m\u001b[0m\n\u001b[0;31m    counts_training_data <- diabetes_train |>\u001b[0m\n\u001b[0m                                            ^\u001b[0m\n\u001b[0;31mSyntaxError\u001b[0m\u001b[0;31m:\u001b[0m invalid syntax\n"
     ]
    }
   ],
   "source": [
    "\n",
    "#report the number of observation based on the diabetes patients\n",
    "counts_training_data <- diabetes_train |>\n",
    "            group_by(Diabetes_binary) |>\n",
    "            summarize(count = n())\n",
    "        \n",
    "counts_testing_data <- diabetes_test |>\n",
    "            group_by(Diabetes_binary) |>\n",
    "            summarize(count = n()) \n",
    "        \n",
    "counts_training_data\n",
    "counts_testing_data"
   ]
  },
  {
   "cell_type": "code",
   "execution_count": 24,
   "id": "95ba1c1e-8e72-496e-b547-cee78e23f321",
   "metadata": {},
   "outputs": [
    {
     "ename": "SyntaxError",
     "evalue": "invalid syntax (4037969515.py, line 2)",
     "output_type": "error",
     "traceback": [
      "\u001b[0;36m  Input \u001b[0;32mIn [24]\u001b[0;36m\u001b[0m\n\u001b[0;31m    mean_age_training <- diabetes_train |>\u001b[0m\n\u001b[0m                                         ^\u001b[0m\n\u001b[0;31mSyntaxError\u001b[0m\u001b[0;31m:\u001b[0m invalid syntax\n"
     ]
    }
   ],
   "source": [
    "\n",
    "#mean age of diabetes patient and non-diabetes people\n",
    "mean_age_training <- diabetes_train |>\n",
    "                group_by(Diabetes_binary)|>\n",
    "                summarize(mean_age = mean(Age))\n",
    "    \n",
    "mean_age_testing <- diabetes_test |>\n",
    "                group_by(Diabetes_binary)|>\n",
    "                summarize(mean_age = mean(Age))\n",
    "\n",
    "mean_age_training\n",
    "mean_age_testing"
   ]
  },
  {
   "cell_type": "code",
   "execution_count": null,
   "id": "9de1e540-d63a-4b65-adf8-e234dcdf8eec",
   "metadata": {},
   "outputs": [],
   "source": []
  },
  {
   "cell_type": "code",
   "execution_count": null,
   "id": "88d3eea6-af56-4006-b7c8-f22636bc50e7",
   "metadata": {},
   "outputs": [],
   "source": []
  }
 ],
 "metadata": {
  "kernelspec": {
   "display_name": "Python 3 (ipykernel)",
   "language": "python",
   "name": "python3"
  },
  "language_info": {
   "codemirror_mode": {
    "name": "ipython",
    "version": 3
   },
   "file_extension": ".py",
   "mimetype": "text/x-python",
   "name": "python",
   "nbconvert_exporter": "python",
   "pygments_lexer": "ipython3",
   "version": "3.10.5"
  }
 },
 "nbformat": 4,
 "nbformat_minor": 5
}
