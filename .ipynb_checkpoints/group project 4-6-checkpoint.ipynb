{
 "cells": [
  {
   "cell_type": "code",
   "execution_count": 8,
   "id": "844365ca-cc15-42e7-b01d-00f274a1fcde",
   "metadata": {},
   "outputs": [
    {
     "ename": "NameError",
     "evalue": "name 'library' is not defined",
     "output_type": "error",
     "traceback": [
      "\u001b[0;31m---------------------------------------------------------------------------\u001b[0m",
      "\u001b[0;31mNameError\u001b[0m                                 Traceback (most recent call last)",
      "Input \u001b[0;32mIn [8]\u001b[0m, in \u001b[0;36m<cell line: 1>\u001b[0;34m()\u001b[0m\n\u001b[0;32m----> 1\u001b[0m \u001b[43mlibrary\u001b[49m(tidyverse)\n\u001b[1;32m      2\u001b[0m library(\u001b[38;5;28mrepr\u001b[39m)\n\u001b[1;32m      3\u001b[0m library(tidymodels)\n",
      "\u001b[0;31mNameError\u001b[0m: name 'library' is not defined"
     ]
    }
   ],
   "source": [
    "library(tidyverse)\n",
    "library(repr)\n",
    "library(tidymodels)\n",
    "\n",
    "url <- \"https://drive.google.com/u/0/uc?id=1OAZCpZGdFPy70ll_Fo2ow5dpaM1sG_47&export=download\"\n",
    "Diabetes_data <- read_csv(url)\n",
    "\n",
    "#split into testing and training dataset\n",
    "set.seed(1)\n",
    "diabetes_split <- initial_split(diabetes_data, prop =0.75, strata = Diabetes) \n",
    "#please note the col name \"Diabetes\" since in the original dataset the col name is \"Diabetes_012\"\n",
    "\n",
    "diabetes_train <-training(diabetes_split)\n",
    "diabetes_test <-testing(diabetes_split)\n",
    "\n",
    "#report the number of observation based on the diabetes patients\n",
    "counts_training_data <- diabetes_train |>\n",
    "        group_by(Diabetes) |>\n",
    "        summarize(count = n())\n",
    "        \n",
    "counts_testing_data <- diabetes_test |>\n",
    "        group_by(Diabetes) |>\n",
    "        summarize(count = n()) \n",
    "        \n",
    "        \n",
    "#mean age of diabetes patient and non-diabetes people\n",
    "mean_age_training <- diabetes_train |>\n",
    "                group_by(Diabetes)|>\n",
    "                summarize(mean_age = mean(Age))\n",
    "    \n",
    "mean_age_testing <- diabetes_test |>\n",
    "                group_by(Diabetes)|>\n",
    "                summarize(mean_age = mean(Age))\n"
   ]
  },
  {
   "cell_type": "code",
   "execution_count": null,
   "id": "ad394b91-c925-47c2-a7c0-6caa8486c24d",
   "metadata": {},
   "outputs": [],
   "source": []
  }
 ],
 "metadata": {
  "kernelspec": {
   "display_name": "Python 3 (ipykernel)",
   "language": "python",
   "name": "python3"
  },
  "language_info": {
   "codemirror_mode": {
    "name": "ipython",
    "version": 3
   },
   "file_extension": ".py",
   "mimetype": "text/x-python",
   "name": "python",
   "nbconvert_exporter": "python",
   "pygments_lexer": "ipython3",
   "version": "3.10.5"
  }
 },
 "nbformat": 4,
 "nbformat_minor": 5
}
