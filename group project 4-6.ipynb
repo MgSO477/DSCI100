{
 "cells": [
  {
   "cell_type": "code",
   "execution_count": 31,
   "id": "844365ca-cc15-42e7-b01d-00f274a1fcde",
   "metadata": {},
   "outputs": [
    {
     "ename": "SyntaxError",
     "evalue": "invalid syntax (1193147145.py, line 12)",
     "output_type": "error",
     "traceback": [
      "\u001b[0;36m  Input \u001b[0;32mIn [31]\u001b[0;36m\u001b[0m\n\u001b[0;31m    diabetes_data <- diabetes_data |>\u001b[0m\n\u001b[0m                                    ^\u001b[0m\n\u001b[0;31mSyntaxError\u001b[0m\u001b[0;31m:\u001b[0m invalid syntax\n"
     ]
    }
   ],
   "source": [
    "library(tidyverse)\n",
    "library(repr)\n",
    "library(tidymodels)\n",
    "#options(repr.matrix.max.rows = 6)\n",
    "#source('tests.R')\n",
    "#source('cleanup.R')\n",
    "\n",
    "url <- \"https://drive.google.com/u/0/uc?id=1OAZCpZGdFPy70ll_Fo2ow5dpaM1sG_47&amp;export=download\"\n",
    "diabetes_data <- read_csv(url)\n",
    "diabetes_data\n",
    "\n",
    "diabetes_data <- diabetes_data |>\n",
    "    mutate(Smoker = as.logical(Smoker)) |>\n",
    "    mutate(Diabetes_binary = as.logical(Diabetes_binary)) |>\n",
    "    mutate(Age = Age * (100/14)) |>\n",
    "    mutate(Income = Income * (10/8)) |>\n",
    "    select(BMI,Age,Income,Smoker,Diabetes_binary)|>\n",
    "diabetes_data\n",
    "\n"
   ]
  },
  {
   "cell_type": "code",
   "execution_count": null,
   "id": "ad394b91-c925-47c2-a7c0-6caa8486c24d",
   "metadata": {},
   "outputs": [],
   "source": [
    "\n",
    "#split into testing and training dataset\n",
    "set.seed(1)\n",
    "diabetes_split <- initial_split(Diabetes_data, prop =0.75, strata = Diabetes_binary) \n",
    "\n",
    "diabetes_train <-training(diabetes_split)a\n",
    "diabetes_test <-testing(diabetes_split)\n",
    "\n"
   ]
  },
  {
   "cell_type": "code",
   "execution_count": null,
   "id": "c6792fbb-13e6-47a1-b7de-caf405777c3d",
   "metadata": {},
   "outputs": [],
   "source": [
    "\n",
    "#report the number of observation based on the diabetes patients\n",
    "counts_training_data <- diabetes_train |>\n",
    "            group_by(Diabetes_binary) |>\n",
    "            summarize(count = n()) |>\n",
    "            summarize(mean_training_age = mean(age))\n",
    "        \n",
    "counts_testing_data <- diabetes_test |>\n",
    "            group_by(Diabetes_binary) |>\n",
    "            summarize(count = n()) |>\n",
    "            summarize(mean_testing_age = mean(age))\n",
    "        \n",
    "counts_training_data\n",
    "counts_testing_data"
   ]
  },
  {
   "cell_type": "code",
   "execution_count": null,
   "id": "95ba1c1e-8e72-496e-b547-cee78e23f321",
   "metadata": {},
   "outputs": [],
   "source": [
    "\n",
    "#mean age of diabetes patient and non-diabetes people\n",
    "mean_age_training <- diabetes_train |>\n",
    "                group_by(Diabetes_binary)|>\n",
    "                summarize(mean_age = mean(Age))\n",
    "    \n",
    "mean_age_testing <- diabetes_test |>\n",
    "                group_by(Diabetes_binary)|>\n",
    "                summarize(mean_age = mean(Age))\n",
    "\n",
    "mean_age_training\n",
    "mean_age_testing"
   ]
  },
  {
   "cell_type": "code",
   "execution_count": null,
   "id": "9de1e540-d63a-4b65-adf8-e234dcdf8eec",
   "metadata": {},
   "outputs": [],
   "source": []
  },
  {
   "cell_type": "code",
   "execution_count": null,
   "id": "88d3eea6-af56-4006-b7c8-f22636bc50e7",
   "metadata": {},
   "outputs": [],
   "source": []
  }
 ],
 "metadata": {
  "kernelspec": {
   "display_name": "Python 3 (ipykernel)",
   "language": "python",
   "name": "python3"
  },
  "language_info": {
   "codemirror_mode": {
    "name": "ipython",
    "version": 3
   },
   "file_extension": ".py",
   "mimetype": "text/x-python",
   "name": "python",
   "nbconvert_exporter": "python",
   "pygments_lexer": "ipython3",
   "version": "3.10.5"
  }
 },
 "nbformat": 4,
 "nbformat_minor": 5
}
