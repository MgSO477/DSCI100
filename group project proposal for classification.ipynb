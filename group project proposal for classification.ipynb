{
 "cells": [
  {
   "cell_type": "code",
   "execution_count": 7,
   "id": "d9337001-02e9-4909-b87c-82b95ff9d9e5",
   "metadata": {},
   "outputs": [
    {
     "name": "stderr",
     "output_type": "stream",
     "text": [
      "Warning message in file(filename, \"r\", encoding = encoding):\n",
      "“cannot open file 'tests.R': No such file or directory”\n"
     ]
    },
    {
     "ename": "ERROR",
     "evalue": "Error in file(filename, \"r\", encoding = encoding): cannot open the connection\n",
     "output_type": "error",
     "traceback": [
      "Error in file(filename, \"r\", encoding = encoding): cannot open the connection\nTraceback:\n",
      "1. source(\"tests.R\")",
      "2. file(filename, \"r\", encoding = encoding)"
     ]
    }
   ],
   "source": [
    "library(tidyverse)\n",
    "library(repr)\n",
    "library(tidymodels)\n",
    "options(repr.matrix.max.rows = 6)\n",
    "source('tests.R')\n",
    "source('cleanup.R')\n",
    "\n",
    "diabetes_data <- read_csv(\"group project/diabetes_012_health_indicators_BRFSS2015.csv\")\n",
    "diabetes_data\n",
    "diabetes_data <- diabetes_data |>\n",
    "                mutate(Diabetes_012 = as_factor(Diabetes_012))|>\n",
    "                select(Diabetes_012, BMI, Age) \n",
    "\n",
    "set.seed(1)\n",
    "diabetes_split <- initial_split(diabetes_data, prop =0.75, strata = Diabetes_binary)\n",
    "diabetes_train <-training(diabetes_split)\n",
    "diabetes_test <-testing(diabetes_split)\n",
    "\n",
    "\n",
    "knn_spec <-nearest_neighbor(weight_func =\"rectangular\", neighbors =3) |>  \n",
    "set_engine(\"kknn\") |>  \n",
    "set_mode(\"classification\")\n",
    "\n",
    "diabetes_recipe <-recipe(Diabetes_012 ~ ., data = diabetes_train) |>  \n",
    "    step_scale(all_predictors()) |>\n",
    "    step_center(all_predictors())\n",
    "\n",
    "knn_fit <-workflow() |>  \n",
    "add_recipe(diabetes_recipe) |>  \n",
    "add_model(knn_spec) |>  \n",
    "fit(data =diabetes_train)\n",
    "\n",
    "diabetes_test_predictions <-predict(knn_fit, diabetes_test) |>  \n",
    "    bind_cols(diabetes_test)\n",
    "\n",
    "#compute the accuracy\n",
    "diabetes_test_predictions |>  \n",
    "metrics(truth =Diabetes_012, estimate =.pred_class) |>  \n",
    "filter(.metric ==\"accuracy\")\n",
    "\n",
    "diabetes_test_predictions\n",
    "\n",
    "#cross-validation\n",
    "diabetes_vfold <-vfold_cv(diabetes_train, v =5, strata = Class)\n",
    "diabetes_resample_fit <- workflow() |>\n",
    "        add_recipe(diabetes_recipe) |>\n",
    "        add_model(knn_spec) |>\n",
    "        fit_resamples(resamples = diabetes_vfold)\n",
    "\n",
    "diabetes_resample_fit\n",
    "#for accuracy\n",
    "diabetes_metrics <- collect_metrics(diabetes_resample_fit)\n",
    "\n",
    "#finding K\n",
    "knn_tune <- nearest_neighbor(weight_func = \"rectangular\", neighbors = tune())|>\n",
    "        set_engine(\"kknn\")|>\n",
    "        set_mode(\"classification\")\n",
    "knn_tune\n",
    "\n",
    "#not sure that kvals, maybe just = 10\n",
    "kvals = tibble(neighbors =seq(1,10,1))\n",
    "               \n",
    "knn_results <- workflow()|>\n",
    "        add_recipe(diabetes_recipe) |>\n",
    "        add_model(knn_tune)|>\n",
    "        tune_grid(resamples = diabetes_vfold, grid = kvals) |>\n",
    "        collect_metrics()\n",
    "               \n",
    "knn_results\n",
    "               \n",
    "accuracies <-knn_results |>\n",
    "  filter(.metric ==\"accuracy\")\n",
    "accuracies\n",
    "\n",
    "accuracy_vs_k <-ggplot(accuracies, aes(x =neighbors, y =mean)) +\n",
    "  geom_point() +\n",
    "  geom_line() +\n",
    "  labs(x =\"Neighbors\", y =\"Accuracy Estimate\") +\n",
    "  theme(text =element_text(size =12))\n",
    "accuracy_vs_k\n",
    "               \n",
    "\n"
   ]
  },
  {
   "cell_type": "code",
   "execution_count": null,
   "id": "c2c59e4f-5e30-4396-a7af-28f0f03dc7f2",
   "metadata": {},
   "outputs": [],
   "source": []
  },
  {
   "cell_type": "code",
   "execution_count": null,
   "id": "bbf27bb2-08ab-465f-90d5-a0ab3cae9347",
   "metadata": {},
   "outputs": [],
   "source": []
  }
 ],
 "metadata": {
  "kernelspec": {
   "display_name": "R",
   "language": "R",
   "name": "ir"
  },
  "language_info": {
   "codemirror_mode": "r",
   "file_extension": ".r",
   "mimetype": "text/x-r-source",
   "name": "R",
   "pygments_lexer": "r",
   "version": "4.1.3"
  }
 },
 "nbformat": 4,
 "nbformat_minor": 5
}
