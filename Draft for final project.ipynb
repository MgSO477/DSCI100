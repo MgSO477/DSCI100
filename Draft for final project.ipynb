{
 "cells": [
  {
   "cell_type": "markdown",
   "id": "6d4907a1-35bc-4368-bc46-e7c5ffdeab8b",
   "metadata": {},
   "source": [
    "# Instroduction:\n",
    "\n",
    "Diabetes is a chronic disease that affects millions of people worldwide, and it can lead to a range of serious complications if not managed properly.\n",
    "By developing accurate predictive models for diabetes, healthcare providers can identify patients who are at high risk for developing complications or \n",
    "experiencing adverse health outcomes, and intervene early to prevent these outcomes.\n",
    "\n",
    "Early identification of high-risk patients: By using predictive models, healthcare providers can identify patients who are at high risk for developing\n",
    "complications such as kidney disease, neuropathy, or retinopathy, and intervene early to prevent or delay these complications.\n",
    "\n",
    "More personalized care: Predictive models can help healthcare providers tailor their treatment plans to the specific needs of each patient, taking into \n",
    "account their individual risk factors, medical history, and other relevant factors.\n",
    "\n",
    "Reduced healthcare costs: By identifying high-risk patients early and intervening to prevent complications, healthcare providers can reduce the overall\n",
    "cost of care for diabetic patients.\n",
    "\n",
    "Improved patient outcomes: By using predictive models to identify high-risk patients and intervene early, healthcare providers can improve patient outcomes\n",
    "and quality of life.\n",
    "\n",
    "Overall, studying predictive models for diabetic patients can help healthcare providers provide more effective, personalized care, and ultimately improve\n",
    "patient outcomes while reducing healthcare costs"
   ]
  },
  {
   "cell_type": "markdown",
   "id": "84b1499e-a593-45eb-ab86-9312542bd6c6",
   "metadata": {},
   "source": [
    "We aim to find possible correlation between \n",
    "The dataset used for the project can be found on the following web address: \n",
    "https://www.kaggle.com/datasets/alexteboul/diabetes-health-indicators-dataset\n",
    "\n",
    "We have used the second of the 3 files for the purpose of this project. It has been cleaned and wrangled from another data file which can be found on the following web address: \n",
    "https://www.kaggle.com/cdc/behavioral-risk-factor-surveillance-system\n",
    "This dataset was created using the annual telephone survey conducted by the Center for Disease Control and Prevention under The Behavioral Risk Factor Surveillance System (BRFSS) program. \n",
    "\n",
    "Finally, we adapted the dataset and publiched it online using GitHub. This is the dataset we read in our project. It can be found here:\n",
    "https://drive.google.com/u/0/uc?id=1OAZCpZGdFPy70ll_Fo2ow5dpaM1sG_47&amp;export=download\n",
    "\n",
    "# !!! Describe the dataset with the file we use: what factors, what cols involve? each cols means what\n",
    "eg: \n",
    "AnyHealthcare\n",
    "Have any kind of health care coverage, including health insurance, prepaid plans such as HMO, etc. 0 = no 1 = yes\n",
    "CholCheck: 1 = yes cholesterol check in 5 years\n",
    "# More detail question: how does a concoction of factors such as Age, BMI, Smoking habits, \n",
    "Income effect a non-diabetic person's chances of acquiring type-2 diabetes?"
   ]
  },
  {
   "cell_type": "markdown",
   "id": "95836688-0ae4-4a50-9841-641c1019db24",
   "metadata": {},
   "source": [
    "Method and Result:\n",
    "    \n",
    "While there may be numerous methods to conduct such an analysis, we find that a predictive model would suit best for our purpose of the research for two reasons: \n",
    "    reason 1: our target is to identify a categorical variable\n",
    "    reason 2: a relatively simple algorithm to implement, since it only requires calculating distances between data points and selecting the k-nearest neighbors.\n",
    "\n",
    "# Should we or how we improve those method?\n",
    " We shall first run some preliminary analysis before deploying sophisticated tools to analyse areas of interest. Our classifier model will take variables such as a person's age, bmi, smoking habits, income etc. into account to identify non-diabetic patients most at risk of acquiring diabetes. \n",
    "This can be done in several ways. For instance, the average distance of 3 nearest diabetic patients can be used to determine how likely a person is to acquire diabetes. Participants of the survey who's average distance to the 3 nearest diabetics on the graph is below a certain level can be classified most at-risk.\n",
    "Another possible method is to use K-nearest neighbors classification algorithm, although this method would be more suitable to classify someone as diabetic or non-diabetic rather than predicting which respondents are most at-risk.\n",
    "\n",
    "# My draft for method section\n",
    "1. we run some preliminary analysis to select the factors in raw dataset, identify the potential predictors to build our predictive classification model\n",
    "2. in order to build a good-quality classification model, we split the data into training dataset and testing dataset, which can be use to test the quality of overall classifier\n",
    "/// only preprocess the training dataset\n",
    "\n",
    "\n",
    "3. Then we should tune on our training dataset by cross-validation. The classifier need to pick a K value to maximize the accuracy. Thus we choose to use cross-validation. If we just split the tranining data once to evaluate, the K maybe strongly depends on the specific valiadation and sub-training dataset, which lead to be overfitting or underfitting \n",
    "4. In R, we can use the vfold_cv function to conduct cross-validation. To utilize this function, we need to  indicate the number of folds (v) and the categorical variable.\n",
    "5. Generate a new model specification for K-nearest neighbor but instead of defining a value for the K, using function tune()\n",
    "6. Create a workflow() analysis that put fruit_recipe and new knn_tune model specification.\n",
    "7. Plot the line diagram which can find different K with different accuracy. In this case, we should roughly optiminal accuracy but not too expensive for calculating (not too large);  does not change much if you change KK to a nearby value\n",
    "\n",
    "8. Then put this K into our best fit classifier, training the model and using the test dataset to evaluate the predictive model.\n",
    "9. We use the test data set to evaluate the best K classifier accuracy and answer the predictive question:...\n"
   ]
  },
  {
   "cell_type": "code",
   "execution_count": 40,
   "id": "70423e93-e47a-4b60-a482-8c82619c8ddb",
   "metadata": {},
   "outputs": [
    {
     "ename": "ERROR",
     "evalue": "Error in library(corrplot): there is no package called ‘corrplot’\n",
     "output_type": "error",
     "traceback": [
      "Error in library(corrplot): there is no package called ‘corrplot’\nTraceback:\n",
      "1. library(corrplot)"
     ]
    }
   ],
   "source": [
    "library(tidyverse)\n",
    "library(repr)\n",
    "library(tidymodels)\n",
    "library(GGally)\n",
    "library(ISLR)\n",
    "library(corrplot)\n",
    "#options(repr.matrix.max.rows = 6)\n",
    "#source('tests.R')\n",
    "#source('cleanup.R')\n",
    "\n",
    "url <- \"https://drive.google.com/u/0/uc?id=1OAZCpZGdFPy70ll_Fo2ow5dpaM1sG_47&amp;export=download\"\n",
    "diabetes_data <- read_csv(url)\n",
    "\n",
    "summary(diabetes_data)"
   ]
  },
  {
   "cell_type": "code",
   "execution_count": 27,
   "id": "8d2cfc75-b749-459d-947a-0b265a07d8b6",
   "metadata": {},
   "outputs": [
    {
     "data": {
      "text/html": [
       "<table class=\"dataframe\">\n",
       "<caption>A spec_tbl_df: 10 × 22</caption>\n",
       "<thead>\n",
       "\t<tr><th scope=col>Diabetes_binary</th><th scope=col>HighBP</th><th scope=col>HighChol</th><th scope=col>CholCheck</th><th scope=col>BMI</th><th scope=col>Smoker</th><th scope=col>Stroke</th><th scope=col>HeartDiseaseorAttack</th><th scope=col>PhysActivity</th><th scope=col>Fruits</th><th scope=col>⋯</th><th scope=col>AnyHealthcare</th><th scope=col>NoDocbcCost</th><th scope=col>GenHlth</th><th scope=col>MentHlth</th><th scope=col>PhysHlth</th><th scope=col>DiffWalk</th><th scope=col>Sex</th><th scope=col>Age</th><th scope=col>Education</th><th scope=col>Income</th></tr>\n",
       "\t<tr><th scope=col>&lt;dbl&gt;</th><th scope=col>&lt;dbl&gt;</th><th scope=col>&lt;dbl&gt;</th><th scope=col>&lt;dbl&gt;</th><th scope=col>&lt;dbl&gt;</th><th scope=col>&lt;dbl&gt;</th><th scope=col>&lt;dbl&gt;</th><th scope=col>&lt;dbl&gt;</th><th scope=col>&lt;dbl&gt;</th><th scope=col>&lt;dbl&gt;</th><th scope=col>⋯</th><th scope=col>&lt;dbl&gt;</th><th scope=col>&lt;dbl&gt;</th><th scope=col>&lt;dbl&gt;</th><th scope=col>&lt;dbl&gt;</th><th scope=col>&lt;dbl&gt;</th><th scope=col>&lt;dbl&gt;</th><th scope=col>&lt;dbl&gt;</th><th scope=col>&lt;dbl&gt;</th><th scope=col>&lt;dbl&gt;</th><th scope=col>&lt;dbl&gt;</th></tr>\n",
       "</thead>\n",
       "<tbody>\n",
       "\t<tr><td>0</td><td>1</td><td>0</td><td>1</td><td>26</td><td>0</td><td>0</td><td>0</td><td>1</td><td>0</td><td>⋯</td><td>1</td><td>0</td><td>3</td><td>5</td><td>30</td><td>0</td><td>1</td><td> 4</td><td>6</td><td>8</td></tr>\n",
       "\t<tr><td>0</td><td>1</td><td>1</td><td>1</td><td>26</td><td>1</td><td>1</td><td>0</td><td>0</td><td>1</td><td>⋯</td><td>1</td><td>0</td><td>3</td><td>0</td><td> 0</td><td>0</td><td>1</td><td>12</td><td>6</td><td>8</td></tr>\n",
       "\t<tr><td>0</td><td>0</td><td>0</td><td>1</td><td>26</td><td>0</td><td>0</td><td>0</td><td>1</td><td>1</td><td>⋯</td><td>1</td><td>0</td><td>1</td><td>0</td><td>10</td><td>0</td><td>1</td><td>13</td><td>6</td><td>8</td></tr>\n",
       "\t<tr><td>0</td><td>1</td><td>1</td><td>1</td><td>28</td><td>1</td><td>0</td><td>0</td><td>1</td><td>1</td><td>⋯</td><td>1</td><td>0</td><td>3</td><td>0</td><td> 3</td><td>0</td><td>1</td><td>11</td><td>6</td><td>8</td></tr>\n",
       "\t<tr><td>0</td><td>0</td><td>0</td><td>1</td><td>29</td><td>1</td><td>0</td><td>0</td><td>1</td><td>1</td><td>⋯</td><td>1</td><td>0</td><td>2</td><td>0</td><td> 0</td><td>0</td><td>0</td><td> 8</td><td>5</td><td>8</td></tr>\n",
       "\t<tr><td>0</td><td>0</td><td>0</td><td>1</td><td>18</td><td>0</td><td>0</td><td>0</td><td>1</td><td>1</td><td>⋯</td><td>0</td><td>0</td><td>2</td><td>7</td><td> 0</td><td>0</td><td>0</td><td> 1</td><td>4</td><td>7</td></tr>\n",
       "\t<tr><td>0</td><td>0</td><td>1</td><td>1</td><td>26</td><td>1</td><td>0</td><td>0</td><td>1</td><td>1</td><td>⋯</td><td>1</td><td>0</td><td>1</td><td>0</td><td> 0</td><td>0</td><td>1</td><td>13</td><td>5</td><td>6</td></tr>\n",
       "\t<tr><td>0</td><td>0</td><td>0</td><td>1</td><td>31</td><td>1</td><td>0</td><td>0</td><td>0</td><td>1</td><td>⋯</td><td>1</td><td>0</td><td>4</td><td>0</td><td> 0</td><td>0</td><td>1</td><td> 6</td><td>4</td><td>3</td></tr>\n",
       "\t<tr><td>0</td><td>0</td><td>0</td><td>1</td><td>32</td><td>0</td><td>0</td><td>0</td><td>1</td><td>1</td><td>⋯</td><td>1</td><td>0</td><td>3</td><td>0</td><td> 0</td><td>0</td><td>0</td><td> 3</td><td>6</td><td>8</td></tr>\n",
       "\t<tr><td>0</td><td>0</td><td>0</td><td>1</td><td>27</td><td>1</td><td>0</td><td>0</td><td>0</td><td>1</td><td>⋯</td><td>1</td><td>0</td><td>3</td><td>0</td><td> 6</td><td>0</td><td>1</td><td> 6</td><td>4</td><td>4</td></tr>\n",
       "</tbody>\n",
       "</table>\n"
      ],
      "text/latex": [
       "A spec\\_tbl\\_df: 10 × 22\n",
       "\\begin{tabular}{lllllllllllllllllllll}\n",
       " Diabetes\\_binary & HighBP & HighChol & CholCheck & BMI & Smoker & Stroke & HeartDiseaseorAttack & PhysActivity & Fruits & ⋯ & AnyHealthcare & NoDocbcCost & GenHlth & MentHlth & PhysHlth & DiffWalk & Sex & Age & Education & Income\\\\\n",
       " <dbl> & <dbl> & <dbl> & <dbl> & <dbl> & <dbl> & <dbl> & <dbl> & <dbl> & <dbl> & ⋯ & <dbl> & <dbl> & <dbl> & <dbl> & <dbl> & <dbl> & <dbl> & <dbl> & <dbl> & <dbl>\\\\\n",
       "\\hline\n",
       "\t 0 & 1 & 0 & 1 & 26 & 0 & 0 & 0 & 1 & 0 & ⋯ & 1 & 0 & 3 & 5 & 30 & 0 & 1 &  4 & 6 & 8\\\\\n",
       "\t 0 & 1 & 1 & 1 & 26 & 1 & 1 & 0 & 0 & 1 & ⋯ & 1 & 0 & 3 & 0 &  0 & 0 & 1 & 12 & 6 & 8\\\\\n",
       "\t 0 & 0 & 0 & 1 & 26 & 0 & 0 & 0 & 1 & 1 & ⋯ & 1 & 0 & 1 & 0 & 10 & 0 & 1 & 13 & 6 & 8\\\\\n",
       "\t 0 & 1 & 1 & 1 & 28 & 1 & 0 & 0 & 1 & 1 & ⋯ & 1 & 0 & 3 & 0 &  3 & 0 & 1 & 11 & 6 & 8\\\\\n",
       "\t 0 & 0 & 0 & 1 & 29 & 1 & 0 & 0 & 1 & 1 & ⋯ & 1 & 0 & 2 & 0 &  0 & 0 & 0 &  8 & 5 & 8\\\\\n",
       "\t 0 & 0 & 0 & 1 & 18 & 0 & 0 & 0 & 1 & 1 & ⋯ & 0 & 0 & 2 & 7 &  0 & 0 & 0 &  1 & 4 & 7\\\\\n",
       "\t 0 & 0 & 1 & 1 & 26 & 1 & 0 & 0 & 1 & 1 & ⋯ & 1 & 0 & 1 & 0 &  0 & 0 & 1 & 13 & 5 & 6\\\\\n",
       "\t 0 & 0 & 0 & 1 & 31 & 1 & 0 & 0 & 0 & 1 & ⋯ & 1 & 0 & 4 & 0 &  0 & 0 & 1 &  6 & 4 & 3\\\\\n",
       "\t 0 & 0 & 0 & 1 & 32 & 0 & 0 & 0 & 1 & 1 & ⋯ & 1 & 0 & 3 & 0 &  0 & 0 & 0 &  3 & 6 & 8\\\\\n",
       "\t 0 & 0 & 0 & 1 & 27 & 1 & 0 & 0 & 0 & 1 & ⋯ & 1 & 0 & 3 & 0 &  6 & 0 & 1 &  6 & 4 & 4\\\\\n",
       "\\end{tabular}\n"
      ],
      "text/markdown": [
       "\n",
       "A spec_tbl_df: 10 × 22\n",
       "\n",
       "| Diabetes_binary &lt;dbl&gt; | HighBP &lt;dbl&gt; | HighChol &lt;dbl&gt; | CholCheck &lt;dbl&gt; | BMI &lt;dbl&gt; | Smoker &lt;dbl&gt; | Stroke &lt;dbl&gt; | HeartDiseaseorAttack &lt;dbl&gt; | PhysActivity &lt;dbl&gt; | Fruits &lt;dbl&gt; | ⋯ ⋯ | AnyHealthcare &lt;dbl&gt; | NoDocbcCost &lt;dbl&gt; | GenHlth &lt;dbl&gt; | MentHlth &lt;dbl&gt; | PhysHlth &lt;dbl&gt; | DiffWalk &lt;dbl&gt; | Sex &lt;dbl&gt; | Age &lt;dbl&gt; | Education &lt;dbl&gt; | Income &lt;dbl&gt; |\n",
       "|---|---|---|---|---|---|---|---|---|---|---|---|---|---|---|---|---|---|---|---|---|\n",
       "| 0 | 1 | 0 | 1 | 26 | 0 | 0 | 0 | 1 | 0 | ⋯ | 1 | 0 | 3 | 5 | 30 | 0 | 1 |  4 | 6 | 8 |\n",
       "| 0 | 1 | 1 | 1 | 26 | 1 | 1 | 0 | 0 | 1 | ⋯ | 1 | 0 | 3 | 0 |  0 | 0 | 1 | 12 | 6 | 8 |\n",
       "| 0 | 0 | 0 | 1 | 26 | 0 | 0 | 0 | 1 | 1 | ⋯ | 1 | 0 | 1 | 0 | 10 | 0 | 1 | 13 | 6 | 8 |\n",
       "| 0 | 1 | 1 | 1 | 28 | 1 | 0 | 0 | 1 | 1 | ⋯ | 1 | 0 | 3 | 0 |  3 | 0 | 1 | 11 | 6 | 8 |\n",
       "| 0 | 0 | 0 | 1 | 29 | 1 | 0 | 0 | 1 | 1 | ⋯ | 1 | 0 | 2 | 0 |  0 | 0 | 0 |  8 | 5 | 8 |\n",
       "| 0 | 0 | 0 | 1 | 18 | 0 | 0 | 0 | 1 | 1 | ⋯ | 0 | 0 | 2 | 7 |  0 | 0 | 0 |  1 | 4 | 7 |\n",
       "| 0 | 0 | 1 | 1 | 26 | 1 | 0 | 0 | 1 | 1 | ⋯ | 1 | 0 | 1 | 0 |  0 | 0 | 1 | 13 | 5 | 6 |\n",
       "| 0 | 0 | 0 | 1 | 31 | 1 | 0 | 0 | 0 | 1 | ⋯ | 1 | 0 | 4 | 0 |  0 | 0 | 1 |  6 | 4 | 3 |\n",
       "| 0 | 0 | 0 | 1 | 32 | 0 | 0 | 0 | 1 | 1 | ⋯ | 1 | 0 | 3 | 0 |  0 | 0 | 0 |  3 | 6 | 8 |\n",
       "| 0 | 0 | 0 | 1 | 27 | 1 | 0 | 0 | 0 | 1 | ⋯ | 1 | 0 | 3 | 0 |  6 | 0 | 1 |  6 | 4 | 4 |\n",
       "\n"
      ],
      "text/plain": [
       "   Diabetes_binary HighBP HighChol CholCheck BMI Smoker Stroke\n",
       "1  0               1      0        1         26  0      0     \n",
       "2  0               1      1        1         26  1      1     \n",
       "3  0               0      0        1         26  0      0     \n",
       "4  0               1      1        1         28  1      0     \n",
       "5  0               0      0        1         29  1      0     \n",
       "6  0               0      0        1         18  0      0     \n",
       "7  0               0      1        1         26  1      0     \n",
       "8  0               0      0        1         31  1      0     \n",
       "9  0               0      0        1         32  0      0     \n",
       "10 0               0      0        1         27  1      0     \n",
       "   HeartDiseaseorAttack PhysActivity Fruits ⋯ AnyHealthcare NoDocbcCost GenHlth\n",
       "1  0                    1            0      ⋯ 1             0           3      \n",
       "2  0                    0            1      ⋯ 1             0           3      \n",
       "3  0                    1            1      ⋯ 1             0           1      \n",
       "4  0                    1            1      ⋯ 1             0           3      \n",
       "5  0                    1            1      ⋯ 1             0           2      \n",
       "6  0                    1            1      ⋯ 0             0           2      \n",
       "7  0                    1            1      ⋯ 1             0           1      \n",
       "8  0                    0            1      ⋯ 1             0           4      \n",
       "9  0                    1            1      ⋯ 1             0           3      \n",
       "10 0                    0            1      ⋯ 1             0           3      \n",
       "   MentHlth PhysHlth DiffWalk Sex Age Education Income\n",
       "1  5        30       0        1    4  6         8     \n",
       "2  0         0       0        1   12  6         8     \n",
       "3  0        10       0        1   13  6         8     \n",
       "4  0         3       0        1   11  6         8     \n",
       "5  0         0       0        0    8  5         8     \n",
       "6  7         0       0        0    1  4         7     \n",
       "7  0         0       0        1   13  5         6     \n",
       "8  0         0       0        1    6  4         3     \n",
       "9  0         0       0        0    3  6         8     \n",
       "10 0         6       0        1    6  4         4     "
      ]
     },
     "metadata": {},
     "output_type": "display_data"
    }
   ],
   "source": [
    "# make more readable, slice the data\n",
    "slice(diabetes_data, 1:10)"
   ]
  },
  {
   "cell_type": "markdown",
   "id": "6179ac0a-f640-4ea4-a49b-c79d0f98a7e1",
   "metadata": {},
   "source": [
    "# ??? DO a exploratory data analysis to identify the potential predictors? \n",
    "# !! need to improve to more concise\n",
    "\n",
    "\n",
    "# finding a good subset of predictors\n",
    "\n",
    "Since whole dataset contain 21 explanatory variables, based on our KNN classification, we identify the numerical variables which could give us more accurate prediction.\n",
    "The variables with only 0 or 1 may strongly influence the result after standardlization.\n"
   ]
  },
  {
   "cell_type": "markdown",
   "id": "52a2db5e-4974-4dbe-bf5e-28d4dbdeaf2f",
   "metadata": {},
   "source": [
    "First, we select mutate the Diabetes_binary as a categorical variable;\n",
    "Then we choose only numerical explanatory variables since our purpose is to use KNN classification (which is a distance-based algorithm, calculating distances between the data points to determine the nearest neighbor) to predict. \n",
    "Slice first 10 rows to make the dataset more readable"
   ]
  },
  {
   "cell_type": "markdown",
   "id": "94054795-a567-4401-9d40-5941153e04a6",
   "metadata": {},
   "source": [
    "We identify it could have relationship with diabetes prediction, in our further exploratory analysis with KNN classification, we should make sure all the predictors are numerical variable.\n",
    "BUT We create another logical dataset to seperately analysis the relationship between those logical variables and diabetes by using visualization. "
   ]
  },
  {
   "cell_type": "code",
   "execution_count": 28,
   "id": "09d7b6f4-d4e0-4587-80a0-5406f7821d1d",
   "metadata": {},
   "outputs": [
    {
     "data": {
      "text/html": [
       "<table class=\"dataframe\">\n",
       "<caption>A tibble: 10 × 8</caption>\n",
       "<thead>\n",
       "\t<tr><th scope=col>Diabetes_binary</th><th scope=col>BMI</th><th scope=col>GenHlth</th><th scope=col>MentHlth</th><th scope=col>PhysHlth</th><th scope=col>Age</th><th scope=col>Education</th><th scope=col>Income</th></tr>\n",
       "\t<tr><th scope=col>&lt;fct&gt;</th><th scope=col>&lt;dbl&gt;</th><th scope=col>&lt;dbl&gt;</th><th scope=col>&lt;dbl&gt;</th><th scope=col>&lt;dbl&gt;</th><th scope=col>&lt;dbl&gt;</th><th scope=col>&lt;dbl&gt;</th><th scope=col>&lt;dbl&gt;</th></tr>\n",
       "</thead>\n",
       "<tbody>\n",
       "\t<tr><td>0</td><td>26</td><td>3</td><td>5</td><td>30</td><td> 4</td><td>6</td><td>8</td></tr>\n",
       "\t<tr><td>0</td><td>26</td><td>3</td><td>0</td><td> 0</td><td>12</td><td>6</td><td>8</td></tr>\n",
       "\t<tr><td>0</td><td>26</td><td>1</td><td>0</td><td>10</td><td>13</td><td>6</td><td>8</td></tr>\n",
       "\t<tr><td>0</td><td>28</td><td>3</td><td>0</td><td> 3</td><td>11</td><td>6</td><td>8</td></tr>\n",
       "\t<tr><td>0</td><td>29</td><td>2</td><td>0</td><td> 0</td><td> 8</td><td>5</td><td>8</td></tr>\n",
       "\t<tr><td>0</td><td>18</td><td>2</td><td>7</td><td> 0</td><td> 1</td><td>4</td><td>7</td></tr>\n",
       "\t<tr><td>0</td><td>26</td><td>1</td><td>0</td><td> 0</td><td>13</td><td>5</td><td>6</td></tr>\n",
       "\t<tr><td>0</td><td>31</td><td>4</td><td>0</td><td> 0</td><td> 6</td><td>4</td><td>3</td></tr>\n",
       "\t<tr><td>0</td><td>32</td><td>3</td><td>0</td><td> 0</td><td> 3</td><td>6</td><td>8</td></tr>\n",
       "\t<tr><td>0</td><td>27</td><td>3</td><td>0</td><td> 6</td><td> 6</td><td>4</td><td>4</td></tr>\n",
       "</tbody>\n",
       "</table>\n"
      ],
      "text/latex": [
       "A tibble: 10 × 8\n",
       "\\begin{tabular}{llllllll}\n",
       " Diabetes\\_binary & BMI & GenHlth & MentHlth & PhysHlth & Age & Education & Income\\\\\n",
       " <fct> & <dbl> & <dbl> & <dbl> & <dbl> & <dbl> & <dbl> & <dbl>\\\\\n",
       "\\hline\n",
       "\t 0 & 26 & 3 & 5 & 30 &  4 & 6 & 8\\\\\n",
       "\t 0 & 26 & 3 & 0 &  0 & 12 & 6 & 8\\\\\n",
       "\t 0 & 26 & 1 & 0 & 10 & 13 & 6 & 8\\\\\n",
       "\t 0 & 28 & 3 & 0 &  3 & 11 & 6 & 8\\\\\n",
       "\t 0 & 29 & 2 & 0 &  0 &  8 & 5 & 8\\\\\n",
       "\t 0 & 18 & 2 & 7 &  0 &  1 & 4 & 7\\\\\n",
       "\t 0 & 26 & 1 & 0 &  0 & 13 & 5 & 6\\\\\n",
       "\t 0 & 31 & 4 & 0 &  0 &  6 & 4 & 3\\\\\n",
       "\t 0 & 32 & 3 & 0 &  0 &  3 & 6 & 8\\\\\n",
       "\t 0 & 27 & 3 & 0 &  6 &  6 & 4 & 4\\\\\n",
       "\\end{tabular}\n"
      ],
      "text/markdown": [
       "\n",
       "A tibble: 10 × 8\n",
       "\n",
       "| Diabetes_binary &lt;fct&gt; | BMI &lt;dbl&gt; | GenHlth &lt;dbl&gt; | MentHlth &lt;dbl&gt; | PhysHlth &lt;dbl&gt; | Age &lt;dbl&gt; | Education &lt;dbl&gt; | Income &lt;dbl&gt; |\n",
       "|---|---|---|---|---|---|---|---|\n",
       "| 0 | 26 | 3 | 5 | 30 |  4 | 6 | 8 |\n",
       "| 0 | 26 | 3 | 0 |  0 | 12 | 6 | 8 |\n",
       "| 0 | 26 | 1 | 0 | 10 | 13 | 6 | 8 |\n",
       "| 0 | 28 | 3 | 0 |  3 | 11 | 6 | 8 |\n",
       "| 0 | 29 | 2 | 0 |  0 |  8 | 5 | 8 |\n",
       "| 0 | 18 | 2 | 7 |  0 |  1 | 4 | 7 |\n",
       "| 0 | 26 | 1 | 0 |  0 | 13 | 5 | 6 |\n",
       "| 0 | 31 | 4 | 0 |  0 |  6 | 4 | 3 |\n",
       "| 0 | 32 | 3 | 0 |  0 |  3 | 6 | 8 |\n",
       "| 0 | 27 | 3 | 0 |  6 |  6 | 4 | 4 |\n",
       "\n"
      ],
      "text/plain": [
       "   Diabetes_binary BMI GenHlth MentHlth PhysHlth Age Education Income\n",
       "1  0               26  3       5        30        4  6         8     \n",
       "2  0               26  3       0         0       12  6         8     \n",
       "3  0               26  1       0        10       13  6         8     \n",
       "4  0               28  3       0         3       11  6         8     \n",
       "5  0               29  2       0         0        8  5         8     \n",
       "6  0               18  2       7         0        1  4         7     \n",
       "7  0               26  1       0         0       13  5         6     \n",
       "8  0               31  4       0         0        6  4         3     \n",
       "9  0               32  3       0         0        3  6         8     \n",
       "10 0               27  3       0         6        6  4         4     "
      ]
     },
     "metadata": {},
     "output_type": "display_data"
    },
    {
     "data": {
      "text/html": [
       "<table class=\"dataframe\">\n",
       "<caption>A tibble: 10 × 15</caption>\n",
       "<thead>\n",
       "\t<tr><th scope=col>Smoker</th><th scope=col>PhysActivity</th><th scope=col>Veggies</th><th scope=col>HvyAlcoholConsump</th><th scope=col>AnyHealthcare</th><th scope=col>NoDocbcCost</th><th scope=col>DiffWalk</th><th scope=col>Sex</th><th scope=col>HighBP</th><th scope=col>HighChol</th><th scope=col>CholCheck</th><th scope=col>Stroke</th><th scope=col>HeartDiseaseorAttack</th><th scope=col>Fruits</th><th scope=col>Diabetes_binary</th></tr>\n",
       "\t<tr><th scope=col>&lt;dbl&gt;</th><th scope=col>&lt;dbl&gt;</th><th scope=col>&lt;dbl&gt;</th><th scope=col>&lt;dbl&gt;</th><th scope=col>&lt;dbl&gt;</th><th scope=col>&lt;dbl&gt;</th><th scope=col>&lt;dbl&gt;</th><th scope=col>&lt;dbl&gt;</th><th scope=col>&lt;dbl&gt;</th><th scope=col>&lt;dbl&gt;</th><th scope=col>&lt;dbl&gt;</th><th scope=col>&lt;dbl&gt;</th><th scope=col>&lt;dbl&gt;</th><th scope=col>&lt;dbl&gt;</th><th scope=col>&lt;fct&gt;</th></tr>\n",
       "</thead>\n",
       "<tbody>\n",
       "\t<tr><td>0</td><td>1</td><td>1</td><td>0</td><td>1</td><td>0</td><td>0</td><td>1</td><td>1</td><td>0</td><td>1</td><td>0</td><td>0</td><td>0</td><td>0</td></tr>\n",
       "\t<tr><td>1</td><td>0</td><td>0</td><td>0</td><td>1</td><td>0</td><td>0</td><td>1</td><td>1</td><td>1</td><td>1</td><td>1</td><td>0</td><td>1</td><td>0</td></tr>\n",
       "\t<tr><td>0</td><td>1</td><td>1</td><td>0</td><td>1</td><td>0</td><td>0</td><td>1</td><td>0</td><td>0</td><td>1</td><td>0</td><td>0</td><td>1</td><td>0</td></tr>\n",
       "\t<tr><td>1</td><td>1</td><td>1</td><td>0</td><td>1</td><td>0</td><td>0</td><td>1</td><td>1</td><td>1</td><td>1</td><td>0</td><td>0</td><td>1</td><td>0</td></tr>\n",
       "\t<tr><td>1</td><td>1</td><td>1</td><td>0</td><td>1</td><td>0</td><td>0</td><td>0</td><td>0</td><td>0</td><td>1</td><td>0</td><td>0</td><td>1</td><td>0</td></tr>\n",
       "\t<tr><td>0</td><td>1</td><td>1</td><td>0</td><td>0</td><td>0</td><td>0</td><td>0</td><td>0</td><td>0</td><td>1</td><td>0</td><td>0</td><td>1</td><td>0</td></tr>\n",
       "\t<tr><td>1</td><td>1</td><td>1</td><td>1</td><td>1</td><td>0</td><td>0</td><td>1</td><td>0</td><td>1</td><td>1</td><td>0</td><td>0</td><td>1</td><td>0</td></tr>\n",
       "\t<tr><td>1</td><td>0</td><td>1</td><td>0</td><td>1</td><td>0</td><td>0</td><td>1</td><td>0</td><td>0</td><td>1</td><td>0</td><td>0</td><td>1</td><td>0</td></tr>\n",
       "\t<tr><td>0</td><td>1</td><td>1</td><td>0</td><td>1</td><td>0</td><td>0</td><td>0</td><td>0</td><td>0</td><td>1</td><td>0</td><td>0</td><td>1</td><td>0</td></tr>\n",
       "\t<tr><td>1</td><td>0</td><td>1</td><td>0</td><td>1</td><td>0</td><td>0</td><td>1</td><td>0</td><td>0</td><td>1</td><td>0</td><td>0</td><td>1</td><td>0</td></tr>\n",
       "</tbody>\n",
       "</table>\n"
      ],
      "text/latex": [
       "A tibble: 10 × 15\n",
       "\\begin{tabular}{lllllllllllllll}\n",
       " Smoker & PhysActivity & Veggies & HvyAlcoholConsump & AnyHealthcare & NoDocbcCost & DiffWalk & Sex & HighBP & HighChol & CholCheck & Stroke & HeartDiseaseorAttack & Fruits & Diabetes\\_binary\\\\\n",
       " <dbl> & <dbl> & <dbl> & <dbl> & <dbl> & <dbl> & <dbl> & <dbl> & <dbl> & <dbl> & <dbl> & <dbl> & <dbl> & <dbl> & <fct>\\\\\n",
       "\\hline\n",
       "\t 0 & 1 & 1 & 0 & 1 & 0 & 0 & 1 & 1 & 0 & 1 & 0 & 0 & 0 & 0\\\\\n",
       "\t 1 & 0 & 0 & 0 & 1 & 0 & 0 & 1 & 1 & 1 & 1 & 1 & 0 & 1 & 0\\\\\n",
       "\t 0 & 1 & 1 & 0 & 1 & 0 & 0 & 1 & 0 & 0 & 1 & 0 & 0 & 1 & 0\\\\\n",
       "\t 1 & 1 & 1 & 0 & 1 & 0 & 0 & 1 & 1 & 1 & 1 & 0 & 0 & 1 & 0\\\\\n",
       "\t 1 & 1 & 1 & 0 & 1 & 0 & 0 & 0 & 0 & 0 & 1 & 0 & 0 & 1 & 0\\\\\n",
       "\t 0 & 1 & 1 & 0 & 0 & 0 & 0 & 0 & 0 & 0 & 1 & 0 & 0 & 1 & 0\\\\\n",
       "\t 1 & 1 & 1 & 1 & 1 & 0 & 0 & 1 & 0 & 1 & 1 & 0 & 0 & 1 & 0\\\\\n",
       "\t 1 & 0 & 1 & 0 & 1 & 0 & 0 & 1 & 0 & 0 & 1 & 0 & 0 & 1 & 0\\\\\n",
       "\t 0 & 1 & 1 & 0 & 1 & 0 & 0 & 0 & 0 & 0 & 1 & 0 & 0 & 1 & 0\\\\\n",
       "\t 1 & 0 & 1 & 0 & 1 & 0 & 0 & 1 & 0 & 0 & 1 & 0 & 0 & 1 & 0\\\\\n",
       "\\end{tabular}\n"
      ],
      "text/markdown": [
       "\n",
       "A tibble: 10 × 15\n",
       "\n",
       "| Smoker &lt;dbl&gt; | PhysActivity &lt;dbl&gt; | Veggies &lt;dbl&gt; | HvyAlcoholConsump &lt;dbl&gt; | AnyHealthcare &lt;dbl&gt; | NoDocbcCost &lt;dbl&gt; | DiffWalk &lt;dbl&gt; | Sex &lt;dbl&gt; | HighBP &lt;dbl&gt; | HighChol &lt;dbl&gt; | CholCheck &lt;dbl&gt; | Stroke &lt;dbl&gt; | HeartDiseaseorAttack &lt;dbl&gt; | Fruits &lt;dbl&gt; | Diabetes_binary &lt;fct&gt; |\n",
       "|---|---|---|---|---|---|---|---|---|---|---|---|---|---|---|\n",
       "| 0 | 1 | 1 | 0 | 1 | 0 | 0 | 1 | 1 | 0 | 1 | 0 | 0 | 0 | 0 |\n",
       "| 1 | 0 | 0 | 0 | 1 | 0 | 0 | 1 | 1 | 1 | 1 | 1 | 0 | 1 | 0 |\n",
       "| 0 | 1 | 1 | 0 | 1 | 0 | 0 | 1 | 0 | 0 | 1 | 0 | 0 | 1 | 0 |\n",
       "| 1 | 1 | 1 | 0 | 1 | 0 | 0 | 1 | 1 | 1 | 1 | 0 | 0 | 1 | 0 |\n",
       "| 1 | 1 | 1 | 0 | 1 | 0 | 0 | 0 | 0 | 0 | 1 | 0 | 0 | 1 | 0 |\n",
       "| 0 | 1 | 1 | 0 | 0 | 0 | 0 | 0 | 0 | 0 | 1 | 0 | 0 | 1 | 0 |\n",
       "| 1 | 1 | 1 | 1 | 1 | 0 | 0 | 1 | 0 | 1 | 1 | 0 | 0 | 1 | 0 |\n",
       "| 1 | 0 | 1 | 0 | 1 | 0 | 0 | 1 | 0 | 0 | 1 | 0 | 0 | 1 | 0 |\n",
       "| 0 | 1 | 1 | 0 | 1 | 0 | 0 | 0 | 0 | 0 | 1 | 0 | 0 | 1 | 0 |\n",
       "| 1 | 0 | 1 | 0 | 1 | 0 | 0 | 1 | 0 | 0 | 1 | 0 | 0 | 1 | 0 |\n",
       "\n"
      ],
      "text/plain": [
       "   Smoker PhysActivity Veggies HvyAlcoholConsump AnyHealthcare NoDocbcCost\n",
       "1  0      1            1       0                 1             0          \n",
       "2  1      0            0       0                 1             0          \n",
       "3  0      1            1       0                 1             0          \n",
       "4  1      1            1       0                 1             0          \n",
       "5  1      1            1       0                 1             0          \n",
       "6  0      1            1       0                 0             0          \n",
       "7  1      1            1       1                 1             0          \n",
       "8  1      0            1       0                 1             0          \n",
       "9  0      1            1       0                 1             0          \n",
       "10 1      0            1       0                 1             0          \n",
       "   DiffWalk Sex HighBP HighChol CholCheck Stroke HeartDiseaseorAttack Fruits\n",
       "1  0        1   1      0        1         0      0                    0     \n",
       "2  0        1   1      1        1         1      0                    1     \n",
       "3  0        1   0      0        1         0      0                    1     \n",
       "4  0        1   1      1        1         0      0                    1     \n",
       "5  0        0   0      0        1         0      0                    1     \n",
       "6  0        0   0      0        1         0      0                    1     \n",
       "7  0        1   0      1        1         0      0                    1     \n",
       "8  0        1   0      0        1         0      0                    1     \n",
       "9  0        0   0      0        1         0      0                    1     \n",
       "10 0        1   0      0        1         0      0                    1     \n",
       "   Diabetes_binary\n",
       "1  0              \n",
       "2  0              \n",
       "3  0              \n",
       "4  0              \n",
       "5  0              \n",
       "6  0              \n",
       "7  0              \n",
       "8  0              \n",
       "9  0              \n",
       "10 0              "
      ]
     },
     "metadata": {},
     "output_type": "display_data"
    }
   ],
   "source": [
    "\n",
    "diabetes_numerical_data <- diabetes_data |>\n",
    "    mutate(Diabetes_binary = as.factor(Diabetes_binary)) |>\n",
    "    select(-Smoker,\n",
    "           -PhysActivity,\n",
    "          -Veggies,\n",
    "          -HvyAlcoholConsump, -AnyHealthcare, -NoDocbcCost, \n",
    "          -DiffWalk,\n",
    "          -Sex,-HighBP, -HighChol, -CholCheck,\n",
    "          -Stroke,-HeartDiseaseorAttack, -Fruits) |>\n",
    "      summarize(across(Diabetes_binary:Income,na.rm =TRUE)) \n",
    "\n",
    "# select(BMI,Age,Income,Smoker,Diabetes_binary)\n",
    "\n",
    "slice(diabetes_numerical_data, 1:10)\n",
    "\n",
    "diabetes_logical_data <- diabetes_data |>\n",
    "    mutate(Diabetes_binary = as.factor(Diabetes_binary)) |>\n",
    "    select(Smoker,\n",
    "           PhysActivity,\n",
    "          Veggies,\n",
    "          HvyAlcoholConsump, AnyHealthcare, NoDocbcCost, \n",
    "          DiffWalk,\n",
    "          Sex, HighBP, HighChol, CholCheck,\n",
    "          Stroke, HeartDiseaseorAttack, Fruits, Diabetes_binary) |>\n",
    "    summarize(across(Smoker:Diabetes_binary,na.rm =TRUE)) \n",
    "    # mutate(Smoker:Fruits == as.logical(Smoker:Fruits))   \n",
    "\n",
    "slice(diabetes_logical_data,1:10)"
   ]
  },
  {
   "cell_type": "markdown",
   "id": "1544afd8-bbac-4f83-ad8a-149c208184cb",
   "metadata": {},
   "source": [
    "Now in the numerical dataset we contain only 6 explanatory variable and need to further identify relevant potential predictors to maximize the accuracy for the classifer. "
   ]
  },
  {
   "cell_type": "markdown",
   "id": "cdb3c4e9-0e96-404e-9af6-0e50a6aabf4a",
   "metadata": {},
   "source": [
    "# Draft method 1: Forward selection method\n",
    "///result have NA??\n",
    "We choose to use forward selection (Eforymson 1966; Draper and Smith 1966) to  build up a model by adding one predictor variable at a time; First, we create a model formula for each subset of predictors for which we want to build a model."
   ]
  },
  {
   "cell_type": "code",
   "execution_count": 29,
   "id": "422edc57-5deb-4d21-9b9d-00f659c303a7",
   "metadata": {},
   "outputs": [],
   "source": [
    "names <- colnames(diabetes_data |> select(-Diabetes_binary))\n",
    "example_formula <- paste(\"Diabetes_binary\", \"~\", paste(names, collapse=\"+\"))"
   ]
  },
  {
   "cell_type": "markdown",
   "id": "c11b7df8-190b-4e5f-b881-40c9e131b75a",
   "metadata": {},
   "source": [
    "we need to create a empty tibbles and add the predictors into this tibbles, finding the best predictors;\n",
    "Then we create a normal recipe for classification and do the cross-validation for each combination of predictors"
   ]
  },
  {
   "cell_type": "code",
   "execution_count": 32,
   "id": "177df3a3-af80-4514-b019-c65e22da5c6b",
   "metadata": {},
   "outputs": [],
   "source": [
    "# Create an empty tibble and add the predictors into this tibble\n",
    "accuracies <- tibble(size = integer(),\n",
    "model_string = character(),\n",
    "accuracy = numeric())\n",
    "\n",
    "knn_spec <- nearest_neighbor(weight_func = \"rectangular\",\n",
    "neighbors = tune()) |>\n",
    "set_engine(\"kknn\") |>\n",
    "set_mode(\"classification\")\n",
    "\n",
    "diabetes_vfold <- vfold_cv(diabetes_data, v = 5, strata = diabetes_data$Diabetes_binary)\n",
    "\n",
    "n_total <- length(names)\n",
    "\n",
    "selected <- c()"
   ]
  },
  {
   "cell_type": "markdown",
   "id": "5f4ec91d-bfee-4b04-9d3c-c7b516eb9128",
   "metadata": {},
   "source": [
    "Here we will use two for loops: one over increasing predictor set sizes (where you see for (i in 1:length(names)) below), and another to check which predictor to add in each round (where you see for (j in 1:length(names)) below). For each set of predictors to try, we construct a model formula, pass it into a recipe, build a workflow."
   ]
  },
  {
   "cell_type": "code",
   "execution_count": 33,
   "id": "0f554365-ded8-4221-9b65-a2d8e288945b",
   "metadata": {},
   "outputs": [
    {
     "name": "stderr",
     "output_type": "stream",
     "text": [
      "\u001b[31mx\u001b[39m \u001b[31mFold1: preprocessor 1/1, model 1/1:\n",
      "  \u001b[1m\u001b[33mError\u001b[31m in \u001b[1m\u001b[1m`check_outcome()`:\u001b[22m\n",
      "  \u001b[33m!\u001b[31m For a classification model, the outcome should be a factor.\u001b[39m\n",
      "\n",
      "\u001b[31mx\u001b[39m \u001b[31mFold2: preprocessor 1/1, model 1/1:\n",
      "  \u001b[1m\u001b[33mError\u001b[31m in \u001b[1m\u001b[1m`check_outcome()`:\u001b[22m\n",
      "  \u001b[33m!\u001b[31m For a classification model, the outcome should be a factor.\u001b[39m\n",
      "\n",
      "\u001b[31mx\u001b[39m \u001b[31mFold3: preprocessor 1/1, model 1/1:\n",
      "  \u001b[1m\u001b[33mError\u001b[31m in \u001b[1m\u001b[1m`check_outcome()`:\u001b[22m\n",
      "  \u001b[33m!\u001b[31m For a classification model, the outcome should be a factor.\u001b[39m\n",
      "\n",
      "\u001b[31mx\u001b[39m \u001b[31mFold4: preprocessor 1/1, model 1/1:\n",
      "  \u001b[1m\u001b[33mError\u001b[31m in \u001b[1m\u001b[1m`check_outcome()`:\u001b[22m\n",
      "  \u001b[33m!\u001b[31m For a classification model, the outcome should be a factor.\u001b[39m\n",
      "\n",
      "\u001b[31mx\u001b[39m \u001b[31mFold5: preprocessor 1/1, model 1/1:\n",
      "  \u001b[1m\u001b[33mError\u001b[31m in \u001b[1m\u001b[1m`check_outcome()`:\u001b[22m\n",
      "  \u001b[33m!\u001b[31m For a classification model, the outcome should be a factor.\u001b[39m\n",
      "\n",
      "Warning message:\n",
      "“All models failed. Run `show_notes(.Last.tune.result)` for more information.”\n"
     ]
    },
    {
     "ename": "ERROR",
     "evalue": "\u001b[1m\u001b[33mError\u001b[39m in \u001b[1m\u001b[1m`estimate_tune_results()`:\u001b[22m\n\u001b[33m!\u001b[39m All of the models failed. See the .notes column.\n",
     "output_type": "error",
     "traceback": [
      "\u001b[1m\u001b[33mError\u001b[39m in \u001b[1m\u001b[1m`estimate_tune_results()`:\u001b[22m\n\u001b[33m!\u001b[39m All of the models failed. See the .notes column.\nTraceback:\n",
      "1. summarize(filter(collect_metrics(tune_grid(add_model(add_recipe(workflow(), \n .     diabetes_recipe), knn_spec), resamples = diabetes_vfold, \n .     grid = 10)), .metric == \"accuracy\"), mx = max(mean))",
      "2. filter(collect_metrics(tune_grid(add_model(add_recipe(workflow(), \n .     diabetes_recipe), knn_spec), resamples = diabetes_vfold, \n .     grid = 10)), .metric == \"accuracy\")",
      "3. collect_metrics(tune_grid(add_model(add_recipe(workflow(), diabetes_recipe), \n .     knn_spec), resamples = diabetes_vfold, grid = 10))",
      "4. collect_metrics.tune_results(tune_grid(add_model(add_recipe(workflow(), \n .     diabetes_recipe), knn_spec), resamples = diabetes_vfold, \n .     grid = 10))",
      "5. estimate_tune_results(x)",
      "6. rlang::abort(\"All of the models failed. See the .notes column.\")",
      "7. signal_abort(cnd, .file)"
     ]
    }
   ],
   "source": [
    "for (i in 1:n_total) {\n",
    "# for every predictor still not added yet\n",
    "accs <- list()\n",
    "models <- list()\n",
    "for (j in 1:length(names)) {\n",
    "# create a model string for this combination of predictors\n",
    "preds_new <- c(selected, names[j])\n",
    "model_string <- paste(\"Diabetes_binary\", \"~\", paste(preds_new, collapse=\"+\"))\n",
    "\n",
    "# create a recipe from the model string\n",
    "diabetes_recipe <- recipe(as.formula(model_string),\n",
    "data = diabetes_data) |>\n",
    "step_scale(all_predictors()) |>\n",
    "step_center(all_predictors())\n",
    "\n",
    "# tune the KNN classifier with these predictors,\n",
    "# and collect the accuracy for the best K\n",
    "acc <- workflow() |>\n",
    "add_recipe(diabetes_recipe) |>\n",
    "add_model(knn_spec) |>\n",
    "tune_grid(resamples = diabetes_vfold, grid = 10) |>\n",
    "collect_metrics() |>\n",
    "filter(.metric == \"accuracy\") |>\n",
    "summarize(mx = max(mean))\n",
    "acc <- acc$mx %>% unlist()\n",
    "\n",
    "# add this result to the dataframe\n",
    "accs[[j]] <- acc\n",
    "models[[j]] <- model_string\n",
    "}\n",
    "jstar <- which.max(unlist(accs))\n",
    "accuracies <- accuracies |>\n",
    "add_row(size = i,\n",
    "model_string = models[[jstar]],\n",
    "accuracy = accs[[jstar]])\n",
    "selected <- c(selected, names[jstar])\n",
    "names <- names[-jstar]\n",
    "}\n",
    "        "
   ]
  },
  {
   "cell_type": "markdown",
   "id": "f1e3d11f-450c-4784-91f2-adec2fcd374d",
   "metadata": {},
   "source": [
    "We can visualize the relationship between different variables and accuracy.\n",
    "..."
   ]
  },
  {
   "cell_type": "markdown",
   "id": "fcef96ca-cb16-426f-853f-3db75b033fda",
   "metadata": {},
   "source": [
    "# Draft method 2: correlation matrix"
   ]
  },
  {
   "cell_type": "code",
   "execution_count": 41,
   "id": "23d24d20-50f0-4b16-bd4e-3c04f7823cc7",
   "metadata": {},
   "outputs": [
    {
     "ename": "ERROR",
     "evalue": "Error in library(corrplot): there is no package called ‘corrplot’\n",
     "output_type": "error",
     "traceback": [
      "Error in library(corrplot): there is no package called ‘corrplot’\nTraceback:\n",
      "1. library(corrplot)"
     ]
    }
   ],
   "source": [
    "library(corrplot)\n",
    "\n",
    "# Compute correlation matrix\n",
    "corr_mat <- cor(diabetes_data)\n",
    "\n",
    "# Create a correlation plot\n",
    "corrplot(corr_mat, type = \"upper\", order = \"hclust\",\n",
    "tl.col = \"black\", tl.srt = 45, tl.cex = 0.7)"
   ]
  },
  {
   "cell_type": "markdown",
   "id": "09d406bc-946b-45fd-aa77-283b03a1344c",
   "metadata": {},
   "source": [
    "# ? visualization for exploratory data analysis: Use the diagram to show relationship between each factor\n",
    "\n",
    "/// also we need to improve the visualization to show whether smoker and diabetes have relationship (more concise and clear way)"
   ]
  },
  {
   "cell_type": "markdown",
   "id": "aaca6e88-6bc5-4584-a6ae-42fbe8f9f56f",
   "metadata": {},
   "source": [
    "# Draft method 3: Using ggpair to identify and visual the explanatory variables \n"
   ]
  },
  {
   "cell_type": "markdown",
   "id": "3ca6ec40-61fb-4cdf-9fd2-0434c0867108",
   "metadata": {},
   "source": [
    "too complicated"
   ]
  },
  {
   "cell_type": "code",
   "execution_count": null,
   "id": "7f169c5a-5832-4b26-baaf-9004ecbcab09",
   "metadata": {},
   "outputs": [],
   "source": [
    "explanatory_numerical_variables_visualization <- ggpairs(diabetes_data,c(\"Income\",\n",
    "                                                       \"BMI\",\n",
    "                                                       \"GenHlth\",\n",
    "                                                       \"MentHlth\",\n",
    "                                                       \"PhysHlth\",\n",
    "                                                       \"Age\",\n",
    "                                                       \"Education\",\n",
    "                                                      \"Diabetes_binary\"), \n",
    "        columns = c(1,2,3,4,5,6), \n",
    "        aes(color = Diabetes_binary))\n",
    "        \n",
    "explanatory_numerical_variables_visualization\n",
    "\n",
    "# how to interpret the plot?\n",
    "# Age, GenHlth, PhysHlth have stronger relationship from ggpair?"
   ]
  },
  {
   "cell_type": "markdown",
   "id": "377509ae-52e1-450d-8a33-778e2bab7110",
   "metadata": {},
   "source": [
    "# ggpairs to visualize the logical variables \n",
    "In the logical variables dataset, we use the ggpairs to compare and identify whether those variables have stronger relationship with diabetes_binary. "
   ]
  },
  {
   "cell_type": "code",
   "execution_count": null,
   "id": "9c7015ff-7659-46bd-b4be-9f50551d3a3e",
   "metadata": {},
   "outputs": [],
   "source": [
    "explanatory_logical_variables_visualization <- ggpairs(diabetes_logical_data,\n",
    "                                                       c(\"Smoker\",\n",
    "                                                         \"PhysActivity\",\n",
    "                                                         \"Veggies\",\n",
    "                                                         \"HvyAlcoholConsump\",\n",
    "                                                         \"AnyHealthcare\",\n",
    "                                                         \"NoDocbcCost\",\n",
    "                                                         \"DiffWalk\",\n",
    "                                                         \"Sex\",\n",
    "                                                         \"HighBP\",\n",
    "                                                         \"HighChol\",\n",
    "                                                         \"CholCheck\",\n",
    "                                                         \"Stroke\",\n",
    "                                                         \"HeartDiseaseorAttack\",\n",
    "                                                         \"Fruits\",\n",
    "                                                      \"Diabetes_binary\"), \n",
    "        columns = c(1,2,3,4,5,6,7,8,9,10,11,12,13,14), \n",
    "        aes(color = Diabetes_binary)))\n",
    "explanatory_logical_variables_visualization"
   ]
  },
  {
   "cell_type": "markdown",
   "id": "2bacdc4e-8db8-4e70-99c7-d4d695323441",
   "metadata": {},
   "source": [
    "# Draft method 4: Bar plot"
   ]
  },
  {
   "cell_type": "markdown",
   "id": "ef571c6e-bc9d-47fa-9c2e-6c3e6670dafc",
   "metadata": {},
   "source": [
    "/// writing part"
   ]
  },
  {
   "cell_type": "code",
   "execution_count": 98,
   "id": "888b8800-0427-42ef-b68a-809b4cba94ad",
   "metadata": {},
   "outputs": [
    {
     "data": {
      "text/html": [
       "<table class=\"dataframe\">\n",
       "<caption>A tibble: 14 × 2</caption>\n",
       "<thead>\n",
       "\t<tr><th scope=col>logical_factor</th><th scope=col>logical_value</th></tr>\n",
       "\t<tr><th scope=col>&lt;chr&gt;</th><th scope=col>&lt;dbl&gt;</th></tr>\n",
       "</thead>\n",
       "<tbody>\n",
       "\t<tr><td>Smoker              </td><td>18317</td></tr>\n",
       "\t<tr><td>PhysActivity        </td><td>22287</td></tr>\n",
       "\t<tr><td>Veggies             </td><td>26736</td></tr>\n",
       "\t<tr><td>HvyAlcoholConsump   </td><td>  832</td></tr>\n",
       "\t<tr><td>AnyHealthcare       </td><td>33924</td></tr>\n",
       "\t<tr><td>NoDocbcCost         </td><td> 3742</td></tr>\n",
       "\t<tr><td>DiffWalk            </td><td>13121</td></tr>\n",
       "\t<tr><td>Sex                 </td><td>16935</td></tr>\n",
       "\t<tr><td>HighBP              </td><td>26604</td></tr>\n",
       "\t<tr><td>HighChol            </td><td>23686</td></tr>\n",
       "\t<tr><td>CholCheck           </td><td>35105</td></tr>\n",
       "\t<tr><td>Stroke              </td><td> 3268</td></tr>\n",
       "\t<tr><td>HeartDiseaseorAttack</td><td> 7878</td></tr>\n",
       "\t<tr><td>Fruits              </td><td>20693</td></tr>\n",
       "</tbody>\n",
       "</table>\n"
      ],
      "text/latex": [
       "A tibble: 14 × 2\n",
       "\\begin{tabular}{ll}\n",
       " logical\\_factor & logical\\_value\\\\\n",
       " <chr> & <dbl>\\\\\n",
       "\\hline\n",
       "\t Smoker               & 18317\\\\\n",
       "\t PhysActivity         & 22287\\\\\n",
       "\t Veggies              & 26736\\\\\n",
       "\t HvyAlcoholConsump    &   832\\\\\n",
       "\t AnyHealthcare        & 33924\\\\\n",
       "\t NoDocbcCost          &  3742\\\\\n",
       "\t DiffWalk             & 13121\\\\\n",
       "\t Sex                  & 16935\\\\\n",
       "\t HighBP               & 26604\\\\\n",
       "\t HighChol             & 23686\\\\\n",
       "\t CholCheck            & 35105\\\\\n",
       "\t Stroke               &  3268\\\\\n",
       "\t HeartDiseaseorAttack &  7878\\\\\n",
       "\t Fruits               & 20693\\\\\n",
       "\\end{tabular}\n"
      ],
      "text/markdown": [
       "\n",
       "A tibble: 14 × 2\n",
       "\n",
       "| logical_factor &lt;chr&gt; | logical_value &lt;dbl&gt; |\n",
       "|---|---|\n",
       "| Smoker               | 18317 |\n",
       "| PhysActivity         | 22287 |\n",
       "| Veggies              | 26736 |\n",
       "| HvyAlcoholConsump    |   832 |\n",
       "| AnyHealthcare        | 33924 |\n",
       "| NoDocbcCost          |  3742 |\n",
       "| DiffWalk             | 13121 |\n",
       "| Sex                  | 16935 |\n",
       "| HighBP               | 26604 |\n",
       "| HighChol             | 23686 |\n",
       "| CholCheck            | 35105 |\n",
       "| Stroke               |  3268 |\n",
       "| HeartDiseaseorAttack |  7878 |\n",
       "| Fruits               | 20693 |\n",
       "\n"
      ],
      "text/plain": [
       "   logical_factor       logical_value\n",
       "1  Smoker               18317        \n",
       "2  PhysActivity         22287        \n",
       "3  Veggies              26736        \n",
       "4  HvyAlcoholConsump      832        \n",
       "5  AnyHealthcare        33924        \n",
       "6  NoDocbcCost           3742        \n",
       "7  DiffWalk             13121        \n",
       "8  Sex                  16935        \n",
       "9  HighBP               26604        \n",
       "10 HighChol             23686        \n",
       "11 CholCheck            35105        \n",
       "12 Stroke                3268        \n",
       "13 HeartDiseaseorAttack  7878        \n",
       "14 Fruits               20693        "
      ]
     },
     "metadata": {},
     "output_type": "display_data"
    },
    {
     "data": {
      "image/png": "[encoded data removed]",
      "text/plain": [
       "plot without title"
      ]
     },
     "metadata": {
      "image/png": {
       "height": 600,
       "width": 1800
      }
     },
     "output_type": "display_data"
    }
   ],
   "source": [
    "# for logical variable\n",
    "# filter the diabetes patients with the logical factor == 1\n",
    "diabetes_subset <- diabetes_logical_data |>\n",
    "        filter(Diabetes_binary == \"1\") |>\n",
    "        summarize(across(Smoker:Fruits,sum, na.rm =TRUE)) |>\n",
    "                pivot_longer(cols = Smoker:Fruits,\n",
    "                     names_to = \"logical_factor\",\n",
    "                     values_to = \"logical_value\") \n",
    "\n",
    "# visualize the plot: most frequent symptoms for diabetes patients \n",
    "options(repr.plot.width = 30, repr.plot.height = 10)\n",
    "diabetes_subset_bar <- ggplot(diabetes_subset, aes(x = fct_reorder(logical_factor, logical_value, .desc = TRUE),\n",
    "                                                   y = logical_value))+\n",
    "        geom_bar(stat = \"identity\") +\n",
    "        labs(x = \"Diabetes factor\", y = \"Frequencies for the diabetes patient\") +\n",
    "        theme(text = element_text(size = 20))\n",
    "\n",
    "\n",
    "diabetes_subset\n",
    "diabetes_subset_bar"
   ]
  },
  {
   "cell_type": "markdown",
   "id": "a5b753b0-d95b-4742-831d-f07d49714eb0",
   "metadata": {},
   "source": [
    "As we saw from the bar plot, most of the diabetes patitents have symptoms with CholCheck and AnyHealthcare, which significantly higher compared with other symptoms. So we identify those 2 sumptoms is potential relevant predictors and add in our classifer model."
   ]
  },
  {
   "cell_type": "markdown",
   "id": "6c608844-71bc-4301-b208-d164cf39daf9",
   "metadata": {},
   "source": [
    "# Building a classifier and tune the model"
   ]
  },
  {
   "cell_type": "code",
   "execution_count": null,
   "id": "07a47279-bf10-407b-98f2-83a9ec597546",
   "metadata": {},
   "outputs": [],
   "source": [
    "set.seed(1)\n",
    "diabetes_split <- initial_split(diabetes_numerical_data, prop =0.75, strata = Diabetes_binary) \n",
    "diabetes_train <-training(diabetes_split)\n",
    "diabetes_test <-testing(diabetes_split)\n",
    "\n",
    "#make more readable and show that our sub dataset already shuffle)\n",
    "#should we show that the dataset is balanced and stra\n",
    "slice(diabetes_train,1:10)\n",
    "slice(diabetes_test,1:10)"
   ]
  },
  {
   "cell_type": "code",
   "execution_count": null,
   "id": "633262da-78b8-4def-a27e-9afcf2c48f44",
   "metadata": {},
   "outputs": [],
   "source": [
    "# tuning and build the classifier by using cross-validation\n",
    "\n",
    "set.seed(1)\n",
    "diabetes_vfold <- vfold_cv(diabetes_train, v = 5, strata = Diabetes_binary)\n",
    "\n",
    "diabetes_recipe <- recipe(Diabetes_binary ~ ., data =diabetes_train)  |>\n",
    "  step_scale(all_predictors()) |>\n",
    "  step_center(all_predictors())\n",
    "\n",
    "knn_spec <- nearest_neighbor(weight_func = \"rectangular\", neighbors = tune()) |>\n",
    "  set_engine(\"kknn\") |>\n",
    "  set_mode(\"classification\")\n",
    "\n",
    "kval = tibble(neighbors = seq(1:10))\n",
    "\n",
    "knn_results <- workflow() |>\n",
    "  add_recipe(diabetes_recipe) |>\n",
    "  add_model(knn_spec) |>\n",
    "  tune_grid(resamples = diabetes_vfold, grid = kval) |>\n",
    "  collect_metrics() |>\n",
    "  filter(.metric == \"accuracy\")\n",
    "\n",
    "knn_results"
   ]
  },
  {
   "cell_type": "code",
   "execution_count": null,
   "id": "3c0d0f07-411a-4ea2-9379-58b64990d38e",
   "metadata": {},
   "outputs": [],
   "source": [
    "options(repr.plot.width = 12, repr.plot.height = 7)\n",
    "\n",
    "# Plot k values against their respective accuracies and choose optimal k value\n",
    "cross_val_plot <- knn_results |> \n",
    "    ggplot(aes(x = neighbors, y = mean)) +\n",
    "    geom_point() +\n",
    "    geom_line() +\n",
    "    labs(x = \"Neighbors\", y = \"Accuracy Estimate\") +\n",
    "    theme(text = element_text(size = 20))\n",
    "\n",
    "cross_val_plot"
   ]
  },
  {
   "cell_type": "code",
   "execution_count": null,
   "id": "84f56af5-a4f6-4d31-8fa4-f4ea7dae6dbb",
   "metadata": {},
   "outputs": [],
   "source": [
    "# using best accuracy K put into the classifier and train\n",
    "knn_best_spec <- nearest_neighbor(weight_func = \"rectangular\", neighbors = 10) |>\n",
    "  set_engine(\"kknn\") |>\n",
    "  set_mode(\"classification\")\n",
    "\n",
    "diabetes_fit <- workflow() |>\n",
    "  add_recipe(diabetes_recipe) |>\n",
    "  add_model(knn_best_spec) |>\n",
    "  fit(data = diabetes_train)\n"
   ]
  },
  {
   "cell_type": "code",
   "execution_count": null,
   "id": "5bff0aa9-de9f-4b34-9375-968b1b6486ba",
   "metadata": {},
   "outputs": [],
   "source": [
    "# using test dataset to evaluate the quality of classifier, then interpret the result\n",
    "# Get the prediction column\n",
    "diabetes_predictions <- predict(diabetes_fit, diabetes_test) |> \n",
    "    bind_cols(diabetes_test)\n",
    "\n",
    "# Compare the accuracy of predictions to the true values in the test set\n",
    "diabetes_acc <- diabetes_predictions |> \n",
    "    metrics(truth = Classes, estimate = .pred_class)  |>\n",
    "    select(.metric, .estimate)|> \n",
    "    filter(.metric == \"accuracy\")\n",
    "\n",
    "# Compare the predictions to the true values in a confusion matrix\n",
    "diabetes_cm <- diabetes_predictions |> \n",
    "    conf_mat(truth = Classes, estimate = .pred_class)\n",
    "diabetes_acc"
   ]
  },
  {
   "cell_type": "code",
   "execution_count": null,
   "id": "f9151369-06ae-4ec4-b383-dd8b81be8c03",
   "metadata": {},
   "outputs": [],
   "source": [
    "# ?? create the visualization for the analysis? how to do that with multivariable classifier?\n",
    "# one way: giving an example observation in test dataset. \n",
    "# Firstly, puting observation in a two variable training data diagram (with label)\n",
    "# secondly, using classifier to identify the label, and using KNN algthorim to identify nearest label in the graph.\n"
   ]
  },
  {
   "cell_type": "markdown",
   "id": "8eec20fc-2931-4356-87fa-863a6b3c0c46",
   "metadata": {},
   "source": [
    "# Discussion: (writing part)\n",
    "    1. what you find?: from what: \n",
    "        classifier accuracy\n",
    "        is predictors help to improve accuracy? ...\n",
    "        \n",
    "    2. different with expectation?\n",
    "    3. impact of this finding?\n",
    "    4. lead what further questions?: For instance, can a similar model be built for all such diseases which do not have outright physical indicators. If models can be built for predicting or classifying patients as healthy, at-risk and patient, then could a model be built for curing diabetes and similar diseases?"
   ]
  },
  {
   "cell_type": "code",
   "execution_count": null,
   "id": "6480f428-2c81-47c6-b86f-cc3884d92875",
   "metadata": {},
   "outputs": [],
   "source": []
  }
 ],
 "metadata": {
  "kernelspec": {
   "display_name": "R",
   "language": "R",
   "name": "ir"
  },
  "language_info": {
   "codemirror_mode": "r",
   "file_extension": ".r",
   "mimetype": "text/x-r-source",
   "name": "R",
   "pygments_lexer": "r",
   "version": "4.1.3"
  }
 },
 "nbformat": 4,
 "nbformat_minor": 5
}
