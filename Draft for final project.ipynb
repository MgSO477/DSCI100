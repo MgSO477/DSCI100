{
 "cells": [
  {
   "cell_type": "markdown",
   "id": "6d4907a1-35bc-4368-bc46-e7c5ffdeab8b",
   "metadata": {},
   "source": [
    "# Instroduction:\n",
    "\n",
    "Diabetes is a chronic disease that affects millions of people worldwide, and it can lead to a range of serious complications if not managed properly.\n",
    "By developing accurate predictive models for diabetes, healthcare providers can identify patients who are at high risk for developing complications or \n",
    "experiencing adverse health outcomes, and intervene early to prevent these outcomes.\n",
    "\n",
    "Early identification of high-risk patients: By using predictive models, healthcare providers can identify patients who are at high risk for developing\n",
    "complications such as kidney disease, neuropathy, or retinopathy, and intervene early to prevent or delay these complications.\n",
    "\n",
    "More personalized care: Predictive models can help healthcare providers tailor their treatment plans to the specific needs of each patient, taking into \n",
    "account their individual risk factors, medical history, and other relevant factors.\n",
    "\n",
    "Reduced healthcare costs: By identifying high-risk patients early and intervening to prevent complications, healthcare providers can reduce the overall\n",
    "cost of care for diabetic patients.\n",
    "\n",
    "Improved patient outcomes: By using predictive models to identify high-risk patients and intervene early, healthcare providers can improve patient outcomes\n",
    "and quality of life.\n",
    "\n",
    "Overall, studying predictive models for diabetic patients can help healthcare providers provide more effective, personalized care, and ultimately improve\n",
    "patient outcomes while reducing healthcare costs"
   ]
  },
  {
   "cell_type": "markdown",
   "id": "84b1499e-a593-45eb-ab86-9312542bd6c6",
   "metadata": {},
   "source": [
    "We aim to find possible correlation between \n",
    "The dataset used for the project can be found on the following web address: \n",
    "https://www.kaggle.com/datasets/alexteboul/diabetes-health-indicators-dataset\n",
    "\n",
    "We have used the second of the 3 files for the purpose of this project. It has been cleaned and wrangled from another data file which can be found on the following web address: \n",
    "https://www.kaggle.com/cdc/behavioral-risk-factor-surveillance-system\n",
    "This dataset was created using the annual telephone survey conducted by the Center for Disease Control and Prevention under The Behavioral Risk Factor Surveillance System (BRFSS) program. \n",
    "\n",
    "Finally, we adapted the dataset and publiched it online using GitHub. This is the dataset we read in our project. It can be found here:\n",
    "https://drive.google.com/u/0/uc?id=1OAZCpZGdFPy70ll_Fo2ow5dpaM1sG_47&amp;export=download\n",
    "\n",
    "# !!! Describe the dataset with the file we use: what factors, what cols involve? each cols means what\n",
    "eg: \n",
    "AnyHealthcare\n",
    "Have any kind of health care coverage, including health insurance, prepaid plans such as HMO, etc. 0 = no 1 = yes\n",
    "CholCheck: 1 = yes cholesterol check in 5 years\n",
    "# More detail question: how does a concoction of factors such as Age, BMI, Smoking habits, \n",
    "Income effect a non-diabetic person's chances of acquiring type-2 diabetes?"
   ]
  },
  {
   "cell_type": "markdown",
   "id": "95836688-0ae4-4a50-9841-641c1019db24",
   "metadata": {},
   "source": [
    "Method and Result:\n",
    "    \n",
    "While there may be numerous methods to conduct such an analysis, we find that a predictive model would suit best for our purpose of the research for two reasons: \n",
    "    reason 1: our target is to identify a categorical variable\n",
    "    reason 2: a relatively simple algorithm to implement, since it only requires calculating distances between data points and selecting the k-nearest neighbors.\n",
    "\n",
    "# Should we or how we improve those method?\n",
    " We shall first run some preliminary analysis before deploying sophisticated tools to analyse areas of interest. Our classifier model will take variables such as a person's age, bmi, smoking habits, income etc. into account to identify non-diabetic patients most at risk of acquiring diabetes. \n",
    "This can be done in several ways. For instance, the average distance of 3 nearest diabetic patients can be used to determine how likely a person is to acquire diabetes. Participants of the survey who's average distance to the 3 nearest diabetics on the graph is below a certain level can be classified most at-risk.\n",
    "Another possible method is to use K-nearest neighbors classification algorithm, although this method would be more suitable to classify someone as diabetic or non-diabetic rather than predicting which respondents are most at-risk.\n",
    "\n",
    "# My draft for method section\n",
    "1. we run some preliminary analysis to select the factors in raw dataset, identify the potential predictors to build our predictive classification model\n",
    "2. in order to build a good-quality classification model, we split the data into training dataset and testing dataset, which can be use to test the quality of overall classifier\n",
    "/// only preprocess the training dataset\n",
    "\n",
    "\n",
    "3. Then we should tune on our training dataset by cross-validation. The classifier need to pick a K value to maximize the accuracy. Thus we choose to use cross-validation. If we just split the tranining data once to evaluate, the K maybe strongly depends on the specific valiadation and sub-training dataset, which lead to be overfitting or underfitting \n",
    "4. In R, we can use the vfold_cv function to conduct cross-validation. To utilize this function, we need to  indicate the number of folds (v) and the categorical variable.\n",
    "5. Generate a new model specification for K-nearest neighbor but instead of defining a value for the K, using function tune()\n",
    "6. Create a workflow() analysis that put fruit_recipe and new knn_tune model specification.\n",
    "7. Plot the line diagram which can find different K with different accuracy. In this case, we should roughly optiminal accuracy but not too expensive for calculating (not too large);  does not change much if you change KK to a nearby value\n",
    "\n",
    "8. Then put this K into our best fit classifier, training the model and using the test dataset to evaluate the predictive model.\n",
    "9. We use the test data set to evaluate the best K classifier accuracy and answer the predictive question:...\n"
   ]
  },
  {
   "cell_type": "code",
   "execution_count": null,
   "id": "70423e93-e47a-4b60-a482-8c82619c8ddb",
   "metadata": {},
   "outputs": [],
   "source": [
    "library(tidyverse)\n",
    "library(repr)\n",
    "library(tidymodels)\n",
    "library(GGally)\n",
    "library(ISLR)\n",
    "library(infer)\n",
    "library(cowplot)\n",
    "#library(corrplot)\n",
    "#options(repr.matrix.max.rows = 6)\n",
    "#source('tests.R')\n",
    "#source('cleanup.R')\n",
    "\n",
    "url <- \"https://drive.google.com/u/0/uc?id=1OAZCpZGdFPy70ll_Fo2ow5dpaM1sG_47&amp;export=download\"\n",
    "diabetes_data <- read_csv(url)\n",
    "\n",
    "summary(diabetes_data)"
   ]
  },
  {
   "cell_type": "code",
   "execution_count": null,
   "id": "8d2cfc75-b749-459d-947a-0b265a07d8b6",
   "metadata": {},
   "outputs": [],
   "source": [
    "# make more readable, slice the data\n",
    "slice(diabetes_data, 1:10)"
   ]
  },
  {
   "cell_type": "markdown",
   "id": "6179ac0a-f640-4ea4-a49b-c79d0f98a7e1",
   "metadata": {},
   "source": [
    "# ??? DO a exploratory data analysis to identify the potential predictors? \n",
    "# !! need to improve to more concise\n",
    "\n",
    "\n",
    "# finding a good subset of predictors\n",
    "\n",
    "Since whole dataset contain 21 explanatory variables, based on our KNN classification, we identify the numerical variables which could give us more accurate prediction.\n",
    "The variables with only 0 or 1 may strongly influence the result after standardlization.\n"
   ]
  },
  {
   "cell_type": "markdown",
   "id": "52a2db5e-4974-4dbe-bf5e-28d4dbdeaf2f",
   "metadata": {},
   "source": [
    "First, we select mutate the Diabetes_binary as a categorical variable;\n",
    "Then we choose only numerical explanatory variables since our purpose is to use KNN classification (which is a distance-based algorithm, calculating distances between the data points to determine the nearest neighbor) to predict. \n",
    "Slice first 10 rows to make the dataset more readable"
   ]
  },
  {
   "cell_type": "markdown",
   "id": "94054795-a567-4401-9d40-5941153e04a6",
   "metadata": {},
   "source": [
    "We identify it could have relationship with diabetes prediction, in our further exploratory analysis with KNN classification, we should make sure all the predictors are numerical variable.\n",
    "BUT We create another logical dataset to seperately analysis the relationship between those logical variables and diabetes by using visualization. "
   ]
  },
  {
   "cell_type": "code",
   "execution_count": null,
   "id": "09d7b6f4-d4e0-4587-80a0-5406f7821d1d",
   "metadata": {},
   "outputs": [],
   "source": [
    "\n",
    "diabetes_numerical_data <- diabetes_data |>\n",
    "    mutate(Diabetes_binary = as.factor(Diabetes_binary)) |>\n",
    "    select(-Smoker,\n",
    "           -PhysActivity,\n",
    "          -Veggies,\n",
    "          -HvyAlcoholConsump, -AnyHealthcare, -NoDocbcCost, \n",
    "          -DiffWalk,\n",
    "          -Sex,-HighBP, -HighChol, -CholCheck,\n",
    "          -Stroke,-HeartDiseaseorAttack, -Fruits) |>\n",
    "      summarize(across(Diabetes_binary:Income,na.rm =TRUE)) \n",
    "\n",
    "# select(BMI,Age,Income,Smoker,Diabetes_binary)\n",
    "\n",
    "slice(diabetes_numerical_data, 1:10)\n",
    "\n",
    "diabetes_logical_data <- diabetes_data |>\n",
    "    mutate(Diabetes_binary = as.factor(Diabetes_binary)) |>\n",
    "    select(Smoker,\n",
    "           PhysActivity,\n",
    "          Veggies,\n",
    "          HvyAlcoholConsump, AnyHealthcare, NoDocbcCost, \n",
    "          DiffWalk,\n",
    "          Sex, HighBP, HighChol, CholCheck,\n",
    "          Stroke, HeartDiseaseorAttack, Fruits, Diabetes_binary) |>\n",
    "    summarize(across(Smoker:Diabetes_binary,na.rm =TRUE)) \n",
    "    # mutate(Smoker:Fruits == as.logical(Smoker:Fruits))   \n",
    "\n",
    "slice(diabetes_logical_data,1:10)"
   ]
  },
  {
   "cell_type": "markdown",
   "id": "1544afd8-bbac-4f83-ad8a-149c208184cb",
   "metadata": {},
   "source": [
    "Now in the numerical dataset we contain only 6 explanatory variable and need to further identify relevant potential predictors to maximize the accuracy for the classifer. "
   ]
  },
  {
   "cell_type": "markdown",
   "id": "cdb3c4e9-0e96-404e-9af6-0e50a6aabf4a",
   "metadata": {},
   "source": [
    "# Draft method 1: Forward selection method\n",
    "///result have NA??\n",
    "We choose to use forward selection (Eforymson 1966; Draper and Smith 1966) to  build up a model by adding one predictor variable at a time; First, we create a model formula for each subset of predictors for which we want to build a model."
   ]
  },
  {
   "cell_type": "code",
   "execution_count": null,
   "id": "422edc57-5deb-4d21-9b9d-00f659c303a7",
   "metadata": {},
   "outputs": [],
   "source": [
    "names <- colnames(diabetes_data |> select(-Diabetes_binary))\n",
    "example_formula <- paste(\"Diabetes_binary\", \"~\", paste(names, collapse=\"+\"))"
   ]
  },
  {
   "cell_type": "markdown",
   "id": "c11b7df8-190b-4e5f-b881-40c9e131b75a",
   "metadata": {},
   "source": [
    "we need to create a empty tibbles and add the predictors into this tibbles, finding the best predictors;\n",
    "Then we create a normal recipe for classification and do the cross-validation for each combination of predictors"
   ]
  },
  {
   "cell_type": "code",
   "execution_count": null,
   "id": "177df3a3-af80-4514-b019-c65e22da5c6b",
   "metadata": {},
   "outputs": [],
   "source": [
    "# Create an empty tibble and add the predictors into this tibble\n",
    "accuracies <- tibble(size = integer(),\n",
    "model_string = character(),\n",
    "accuracy = numeric())\n",
    "\n",
    "knn_spec <- nearest_neighbor(weight_func = \"rectangular\",\n",
    "neighbors = tune()) |>\n",
    "set_engine(\"kknn\") |>\n",
    "set_mode(\"classification\")\n",
    "\n",
    "diabetes_vfold <- vfold_cv(diabetes_data, v = 5, strata = diabetes_data$Diabetes_binary)\n",
    "\n",
    "n_total <- length(names)\n",
    "\n",
    "selected <- c()"
   ]
  },
  {
   "cell_type": "markdown",
   "id": "5f4ec91d-bfee-4b04-9d3c-c7b516eb9128",
   "metadata": {},
   "source": [
    "Here we will use two for loops: one over increasing predictor set sizes (where you see for (i in 1:length(names)) below), and another to check which predictor to add in each round (where you see for (j in 1:length(names)) below). For each set of predictors to try, we construct a model formula, pass it into a recipe, build a workflow."
   ]
  },
  {
   "cell_type": "code",
   "execution_count": null,
   "id": "0f554365-ded8-4221-9b65-a2d8e288945b",
   "metadata": {},
   "outputs": [],
   "source": [
    "for (i in 1:n_total) {\n",
    "# for every predictor still not added yet\n",
    "accs <- list()\n",
    "models <- list()\n",
    "for (j in 1:length(names)) {\n",
    "# create a model string for this combination of predictors\n",
    "preds_new <- c(selected, names[j])\n",
    "model_string <- paste(\"Diabetes_binary\", \"~\", paste(preds_new, collapse=\"+\"))\n",
    "\n",
    "# create a recipe from the model string\n",
    "diabetes_recipe <- recipe(as.formula(model_string),\n",
    "data = diabetes_data) |>\n",
    "step_scale(all_predictors()) |>\n",
    "step_center(all_predictors())\n",
    "\n",
    "# tune the KNN classifier with these predictors,\n",
    "# and collect the accuracy for the best K\n",
    "acc <- workflow() |>\n",
    "add_recipe(diabetes_recipe) |>\n",
    "add_model(knn_spec) |>\n",
    "tune_grid(resamples = diabetes_vfold, grid = 10) |>\n",
    "collect_metrics() |>\n",
    "filter(.metric == \"accuracy\") |>\n",
    "summarize(mx = max(mean))\n",
    "acc <- acc$mx %>% unlist()\n",
    "\n",
    "# add this result to the dataframe\n",
    "accs[[j]] <- acc\n",
    "models[[j]] <- model_string\n",
    "}\n",
    "jstar <- which.max(unlist(accs))\n",
    "accuracies <- accuracies |>\n",
    "add_row(size = i,\n",
    "model_string = models[[jstar]],\n",
    "accuracy = accs[[jstar]])\n",
    "selected <- c(selected, names[jstar])\n",
    "names <- names[-jstar]\n",
    "}\n",
    "        "
   ]
  },
  {
   "cell_type": "markdown",
   "id": "f1e3d11f-450c-4784-91f2-adec2fcd374d",
   "metadata": {},
   "source": [
    "We can visualize the relationship between different variables and accuracy.\n",
    "..."
   ]
  },
  {
   "cell_type": "markdown",
   "id": "fcef96ca-cb16-426f-853f-3db75b033fda",
   "metadata": {},
   "source": [
    "# Draft method 2: correlation matrix"
   ]
  },
  {
   "cell_type": "code",
   "execution_count": null,
   "id": "23d24d20-50f0-4b16-bd4e-3c04f7823cc7",
   "metadata": {},
   "outputs": [],
   "source": [
    "library(corrplot)\n",
    "\n",
    "# Compute correlation matrix\n",
    "corr_mat <- cor(diabetes_data)\n",
    "\n",
    "# Create a correlation plot\n",
    "corrplot(corr_mat, type = \"upper\", order = \"hclust\",\n",
    "tl.col = \"black\", tl.srt = 45, tl.cex = 0.7)"
   ]
  },
  {
   "cell_type": "markdown",
   "id": "09d406bc-946b-45fd-aa77-283b03a1344c",
   "metadata": {},
   "source": [
    "# ? visualization for exploratory data analysis: Use the diagram to show relationship between each factor\n",
    "\n",
    "/// also we need to improve the visualization to show whether smoker and diabetes have relationship (more concise and clear way)"
   ]
  },
  {
   "cell_type": "markdown",
   "id": "aaca6e88-6bc5-4584-a6ae-42fbe8f9f56f",
   "metadata": {},
   "source": [
    "# Draft method 3: Using ggpair to identify and visual the explanatory variables \n"
   ]
  },
  {
   "cell_type": "markdown",
   "id": "3ca6ec40-61fb-4cdf-9fd2-0434c0867108",
   "metadata": {},
   "source": [
    "too complicated"
   ]
  },
  {
   "cell_type": "code",
   "execution_count": null,
   "id": "7f169c5a-5832-4b26-baaf-9004ecbcab09",
   "metadata": {},
   "outputs": [],
   "source": [
    "explanatory_numerical_variables_visualization <- ggpairs(diabetes_data,c(\"Income\",\n",
    "                                                       \"BMI\",\n",
    "                                                       \"GenHlth\",\n",
    "                                                       \"MentHlth\",\n",
    "                                                       \"PhysHlth\",\n",
    "                                                       \"Age\",\n",
    "                                                       \"Education\",\n",
    "                                                      \"Diabetes_binary\"), \n",
    "        columns = c(1,2,3,4,5,6), \n",
    "        aes(color = Diabetes_binary))\n",
    "        \n",
    "explanatory_numerical_variables_visualization\n",
    "\n",
    "# how to interpret the plot?\n",
    "# Age, GenHlth, PhysHlth have stronger relationship from ggpair?"
   ]
  },
  {
   "cell_type": "markdown",
   "id": "377509ae-52e1-450d-8a33-778e2bab7110",
   "metadata": {},
   "source": [
    "# ggpairs to visualize the logical variables \n",
    "In the logical variables dataset, we use the ggpairs to compare and identify whether those variables have stronger relationship with diabetes_binary. "
   ]
  },
  {
   "cell_type": "code",
   "execution_count": null,
   "id": "9c7015ff-7659-46bd-b4be-9f50551d3a3e",
   "metadata": {},
   "outputs": [],
   "source": [
    "explanatory_logical_variables_visualization <- ggpairs(diabetes_logical_data,\n",
    "                                                       c(\"Smoker\",\n",
    "                                                         \"PhysActivity\",\n",
    "                                                         \"Veggies\",\n",
    "                                                         \"HvyAlcoholConsump\",\n",
    "                                                         \"AnyHealthcare\",\n",
    "                                                         \"NoDocbcCost\",\n",
    "                                                         \"DiffWalk\",\n",
    "                                                         \"Sex\",\n",
    "                                                         \"HighBP\",\n",
    "                                                         \"HighChol\",\n",
    "                                                         \"CholCheck\",\n",
    "                                                         \"Stroke\",\n",
    "                                                         \"HeartDiseaseorAttack\",\n",
    "                                                         \"Fruits\",\n",
    "                                                      \"Diabetes_binary\"), \n",
    "        columns = c(1,2,3,4,5,6,7,8,9,10,11,12,13,14), \n",
    "        aes(color = Diabetes_binary)))\n",
    "explanatory_logical_variables_visualization"
   ]
  },
  {
   "cell_type": "markdown",
   "id": "2bacdc4e-8db8-4e70-99c7-d4d695323441",
   "metadata": {},
   "source": [
    "# Draft method 4: Bar plot"
   ]
  },
  {
   "cell_type": "markdown",
   "id": "ef571c6e-bc9d-47fa-9c2e-6c3e6670dafc",
   "metadata": {},
   "source": [
    "/// writing part"
   ]
  },
  {
   "cell_type": "code",
   "execution_count": null,
   "id": "888b8800-0427-42ef-b68a-809b4cba94ad",
   "metadata": {},
   "outputs": [],
   "source": [
    "# for logical variable\n",
    "# filter the diabetes patients with the logical factor == 1\n",
    "diabetes_subset <- diabetes_logical_data |>\n",
    "        filter(Diabetes_binary == \"1\") |>\n",
    "        summarize(across(Smoker:Fruits,sum, na.rm =TRUE)) |>\n",
    "                pivot_longer(cols = Smoker:Fruits,\n",
    "                     names_to = \"logical_factor\",\n",
    "                     values_to = \"logical_value\") \n",
    "\n",
    "# visualize the plot: most frequent symptoms for diabetes patients \n",
    "options(repr.plot.width = 30, repr.plot.height = 10)\n",
    "diabetes_subset_bar <- ggplot(diabetes_subset, aes(x = fct_reorder(logical_factor, logical_value, .desc = TRUE),\n",
    "                                                   y = logical_value))+\n",
    "        geom_bar(stat = \"identity\") +\n",
    "        labs(x = \"Diabetes factor\", y = \"Frequencies for the diabetes patient\") +\n",
    "        theme(text = element_text(size = 20))\n",
    "\n",
    "\n",
    "diabetes_subset\n",
    "diabetes_subset_bar"
   ]
  },
  {
   "cell_type": "markdown",
   "id": "a5b753b0-d95b-4742-831d-f07d49714eb0",
   "metadata": {},
   "source": [
    "As we saw from the bar plot, most of the diabetes patitents have symptoms with CholCheck and AnyHealthcare, which significantly higher compared with other symptoms. So we identify those 2 sumptoms is potential relevant predictors and add in our classifer model."
   ]
  },
  {
   "cell_type": "markdown",
   "id": "35034511-f364-425c-908a-6b55bf9c6b22",
   "metadata": {},
   "source": [
    "Now we use the histogram to identify the numerical variables for diabetes and non-diabetes patients. Variables with significant different distribution for different labels could be identify as potential predictors in our case.\n"
   ]
  },
  {
   "cell_type": "code",
   "execution_count": null,
   "id": "c0c9e342-8112-4d90-9f9f-e8660471bc2a",
   "metadata": {},
   "outputs": [],
   "source": [
    "library(scales)\n",
    "\n",
    "BMI_dis <- ggplot(diabetes_numerical_data, aes(x = BMI, fill = Diabetes_binary)) +\n",
    "        geom_histogram(binwidth = 5) +\n",
    "        facet_grid(cols = vars(Diabetes_binary)) +\n",
    "        labs(x = \"BMI\", fill = \"Diabetes label\")\n",
    "\n",
    "GenHlth_dis <- ggplot(diabetes_numerical_data, aes(x = GenHlth, fill = Diabetes_binary)) +\n",
    "        geom_histogram(binwidth = 5) +\n",
    "        facet_grid(cols = vars(Diabetes_binary)) +\n",
    "        labs(x = \"GenHlth\", fill = \"Diabetes label\") +\n",
    "        #theme(text = element_text(size = 12)) +\n",
    "        scale_x_log10(labels = comma)\n",
    "  \n",
    "MentHlth_dis <- ggplot(diabetes_numerical_data, aes(x = MentHlth, fill = Diabetes_binary)) +\n",
    "        geom_histogram(binwidth = 5) +\n",
    "        facet_grid(cols = vars(Diabetes_binary)) +\n",
    "        labs(x = \"MentHlth\", fill = \"Diabetes label\")\n",
    "\n",
    "PhysHlth_dis <- ggplot(diabetes_numerical_data, aes(x = PhysHlth, fill = Diabetes_binary)) +\n",
    "        geom_histogram(binwidth = 5) +\n",
    "        facet_grid(cols = vars(Diabetes_binary)) +\n",
    "        labs(x = \"PhysHlth\", fill = \"Diabetes label\")\n",
    "\n",
    "Age_dis <- ggplot(diabetes_numerical_data, aes(x = Age, fill = Diabetes_binary)) +\n",
    "        geom_histogram(binwidth = 5) +\n",
    "        facet_grid(cols = vars(Diabetes_binary)) +\n",
    "        labs(x = \"Age\", fill = \"Diabetes label\")\n",
    "\n",
    "Income_dis <- ggplot(diabetes_numerical_data, aes(x = Income, fill = Diabetes_binary)) +\n",
    "        geom_histogram(binwidth = 5) +\n",
    "        facet_grid(cols = vars(Diabetes_binary)) +\n",
    "        labs(x = \"Income\", fill = \"Diabetes label\")\n",
    "\n",
    "options(repr.plot.width = 15, repr.plot.height = 7)\n",
    "plot_grid(BMI_dis,GenHlth_dis,MentHlth_dis,\n",
    "          PhysHlth_dis,Age_dis, Income_dis, ncol = 3)\n"
   ]
  },
  {
   "cell_type": "markdown",
   "id": "658bb827-ed9e-481d-a5cb-c34b1a097b98",
   "metadata": {},
   "source": [
    "? Compared with 6 numerical variables distribution for diabetes and non diabetes patients, we could identify that BMI, Age, Income(?), PhysHlth(?) as the potential predictors in our classifer"
   ]
  },
  {
   "cell_type": "code",
   "execution_count": null,
   "id": "7bfb5717-ae8b-4366-879b-63d7c3649eef",
   "metadata": {},
   "outputs": [],
   "source": [
    "# clean the cols with irrelevant variables\n",
    "diabetes_clean <- diabetes_data |>\n",
    "    mutate(Diabetes_binary = as.factor(Diabetes_binary)) |>\n",
    "    select(BMI,Age,CholCheck,AnyHealthcare,Income, Diabetes_binary)\n",
    "slice(diabetes_clean,1:15)"
   ]
  },
  {
   "cell_type": "markdown",
   "id": "6c608844-71bc-4301-b208-d164cf39daf9",
   "metadata": {},
   "source": [
    "# Building a classifier and tune the model"
   ]
  },
  {
   "cell_type": "code",
   "execution_count": null,
   "id": "07a47279-bf10-407b-98f2-83a9ec597546",
   "metadata": {},
   "outputs": [],
   "source": [
    "set.seed(1)\n",
    "diabetes_split <- initial_split(diabetes_clean, prop =0.75, strata = Diabetes_binary) \n",
    "diabetes_train <-training(diabetes_split)\n",
    "diabetes_test <-testing(diabetes_split)\n",
    "\n",
    "#make more readable and show that our sub dataset already shuffle)\n",
    "#should we show that the dataset is balanced and stra\n",
    "slice(diabetes_train,1:10)\n",
    "slice(diabetes_test,1:10)"
   ]
  },
  {
   "cell_type": "code",
   "execution_count": null,
   "id": "633262da-78b8-4def-a27e-9afcf2c48f44",
   "metadata": {},
   "outputs": [],
   "source": [
    "# tuning and build the classifier by using cross-validation\n",
    "\n",
    "set.seed(1)\n",
    "diabetes_vfold <- vfold_cv(diabetes_train, v = 5, strata = Diabetes_binary)\n",
    "\n",
    "diabetes_recipe <- recipe(Diabetes_binary ~ ., data =diabetes_train)  |>\n",
    "  step_scale(all_predictors()) |>\n",
    "  step_center(all_predictors())\n",
    "\n",
    "knn_spec <- nearest_neighbor(weight_func = \"rectangular\", neighbors = tune()) |>\n",
    "  set_engine(\"kknn\") |>\n",
    "  set_mode(\"classification\")\n",
    "\n",
    "kval = tibble(neighbors = seq(1:30))\n",
    "\n",
    "knn_results <- workflow() |>\n",
    "  add_recipe(diabetes_recipe) |>\n",
    "  add_model(knn_spec) |>\n",
    "  tune_grid(resamples = diabetes_vfold, grid = kval) |>\n",
    "  collect_metrics() |>\n",
    "  filter(.metric == \"accuracy\")\n",
    "\n",
    "knn_results"
   ]
  },
  {
   "cell_type": "code",
   "execution_count": 79,
   "id": "3c0d0f07-411a-4ea2-9379-58b64990d38e",
   "metadata": {},
   "outputs": [
    {
     "data": {
      "image/png": "[encoded data removed]",
      "text/plain": [
       "plot without title"
      ]
     },
     "metadata": {
      "image/png": {
       "height": 420,
       "width": 720
      }
     },
     "output_type": "display_data"
    }
   ],
   "source": [
    "options(repr.plot.width = 12, repr.plot.height = 7)\n",
    "\n",
    "# Plot k values against their respective accuracies and choose optimal k value\n",
    "cross_val_plot <- knn_results |> \n",
    "    ggplot(aes(x = neighbors, y = mean)) +\n",
    "    geom_point() +\n",
    "    geom_line() +\n",
    "    labs(x = \"Neighbors\", y = \"Accuracy Estimate\") +\n",
    "    theme(text = element_text(size = 20))\n",
    "\n",
    "cross_val_plot"
   ]
  },
  {
   "cell_type": "code",
   "execution_count": 80,
   "id": "84f56af5-a4f6-4d31-8fa4-f4ea7dae6dbb",
   "metadata": {},
   "outputs": [],
   "source": [
    "# using best accuracy K put into the classifier and train\n",
    "knn_best_spec <- nearest_neighbor(weight_func = \"rectangular\", neighbors = 9) |>\n",
    "  set_engine(\"kknn\") |>\n",
    "  set_mode(\"classification\")\n",
    "\n",
    "diabetes_fit <- workflow() |>\n",
    "  add_recipe(diabetes_recipe) |>\n",
    "  add_model(knn_best_spec) |>\n",
    "  fit(data = diabetes_train)\n"
   ]
  },
  {
   "cell_type": "code",
   "execution_count": 81,
   "id": "5bff0aa9-de9f-4b34-9375-968b1b6486ba",
   "metadata": {},
   "outputs": [
    {
     "data": {
      "text/html": [
       "<table class=\"dataframe\">\n",
       "<caption>A tibble: 1 × 2</caption>\n",
       "<thead>\n",
       "\t<tr><th scope=col>.metric</th><th scope=col>.estimate</th></tr>\n",
       "\t<tr><th scope=col>&lt;chr&gt;</th><th scope=col>&lt;dbl&gt;</th></tr>\n",
       "</thead>\n",
       "<tbody>\n",
       "\t<tr><td>accuracy</td><td>0.5878126</td></tr>\n",
       "</tbody>\n",
       "</table>\n"
      ],
      "text/latex": [
       "A tibble: 1 × 2\n",
       "\\begin{tabular}{ll}\n",
       " .metric & .estimate\\\\\n",
       " <chr> & <dbl>\\\\\n",
       "\\hline\n",
       "\t accuracy & 0.5878126\\\\\n",
       "\\end{tabular}\n"
      ],
      "text/markdown": [
       "\n",
       "A tibble: 1 × 2\n",
       "\n",
       "| .metric &lt;chr&gt; | .estimate &lt;dbl&gt; |\n",
       "|---|---|\n",
       "| accuracy | 0.5878126 |\n",
       "\n"
      ],
      "text/plain": [
       "  .metric  .estimate\n",
       "1 accuracy 0.5878126"
      ]
     },
     "metadata": {},
     "output_type": "display_data"
    }
   ],
   "source": [
    "# using test dataset to evaluate the quality of classifier, then interpret the result\n",
    "# Get the prediction column\n",
    "diabetes_predictions <- predict(diabetes_fit, diabetes_test) |> \n",
    "    bind_cols(diabetes_test)\n",
    "\n",
    "# Compare the accuracy of predictions to the true values in the test set\n",
    "diabetes_acc <- diabetes_predictions |> \n",
    "    metrics(truth = Diabetes_binary, estimate = .pred_class)  |>\n",
    "    select(.metric, .estimate)|> \n",
    "    filter(.metric == \"accuracy\")\n",
    "\n",
    "# Compare the predictions to the true values in a confusion matrix\n",
    "diabetes_cm <- diabetes_predictions |> \n",
    "    conf_mat(truth = Diabetes_binary, estimate = .pred_class)\n",
    "diabetes_acc"
   ]
  },
  {
   "cell_type": "markdown",
   "id": "569e346a-61b2-4438-88d0-df8a469804ed",
   "metadata": {},
   "source": [
    "# ?? create the visualization for the analysis? how to do that with multivariable classifier?\n",
    "/// giving an example observation in test dataset. \n",
    "1. Firstly, puting observation in a two variable training data diagram (with label)\n",
    "2. secondly, using classifier to identify the label, and using KNN algthorim to identify nearest label in the graph.\n"
   ]
  },
  {
   "cell_type": "markdown",
   "id": "8eec20fc-2931-4356-87fa-863a6b3c0c46",
   "metadata": {},
   "source": [
    "# Discussion: (writing part)\n",
    "    1. what you find?: from what: \n",
    "        classifier accuracy\n",
    "        is predictors help to improve accuracy? ...\n",
    "        \n",
    "    2. different with expectation?\n",
    "    3. impact of this finding?\n",
    "    4. lead what further questions?: For instance, can a similar model be built for all such diseases which do not have outright physical indicators. If models can be built for predicting or classifying patients as healthy, at-risk and patient, then could a model be built for curing diabetes and similar diseases?"
   ]
  },
  {
   "cell_type": "code",
   "execution_count": null,
   "id": "6480f428-2c81-47c6-b86f-cc3884d92875",
   "metadata": {},
   "outputs": [],
   "source": []
  }
 ],
 "metadata": {
  "kernelspec": {
   "display_name": "R",
   "language": "R",
   "name": "ir"
  },
  "language_info": {
   "codemirror_mode": "r",
   "file_extension": ".r",
   "mimetype": "text/x-r-source",
   "name": "R",
   "pygments_lexer": "r",
   "version": "4.1.3"
  }
 },
 "nbformat": 4,
 "nbformat_minor": 5
}
